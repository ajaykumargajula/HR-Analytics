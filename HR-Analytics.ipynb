{
 "cells": [
  {
   "cell_type": "code",
   "execution_count": 1,
   "metadata": {},
   "outputs": [],
   "source": [
    "import pandas as pd\n",
    "pd.options.display.float_format='{:.2f}'.format\n",
    "import numpy as np\n",
    "import seaborn as sns\n",
    "import matplotlib.pyplot as plt\n",
    "import warnings\n",
    "warnings.filterwarnings(\"ignore\")"
   ]
  },
  {
   "cell_type": "code",
   "execution_count": 2,
   "metadata": {},
   "outputs": [],
   "source": [
    "train_data=pd.read_csv(\"train.csv\")\n",
    "test_data=pd.read_csv(\"test.csv\")"
   ]
  },
  {
   "cell_type": "code",
   "execution_count": 3,
   "metadata": {},
   "outputs": [],
   "source": [
    "train_raw=train_data.copy()\n",
    "test_raw=test_data.copy()"
   ]
  },
  {
   "cell_type": "code",
   "execution_count": 4,
   "metadata": {},
   "outputs": [
    {
     "data": {
      "text/html": [
       "<div>\n",
       "<style scoped>\n",
       "    .dataframe tbody tr th:only-of-type {\n",
       "        vertical-align: middle;\n",
       "    }\n",
       "\n",
       "    .dataframe tbody tr th {\n",
       "        vertical-align: top;\n",
       "    }\n",
       "\n",
       "    .dataframe thead th {\n",
       "        text-align: right;\n",
       "    }\n",
       "</style>\n",
       "<table border=\"1\" class=\"dataframe\">\n",
       "  <thead>\n",
       "    <tr style=\"text-align: right;\">\n",
       "      <th></th>\n",
       "      <th>employee_id</th>\n",
       "      <th>department</th>\n",
       "      <th>region</th>\n",
       "      <th>education</th>\n",
       "      <th>gender</th>\n",
       "      <th>recruitment_channel</th>\n",
       "      <th>no_of_trainings</th>\n",
       "      <th>age</th>\n",
       "      <th>previous_year_rating</th>\n",
       "      <th>length_of_service</th>\n",
       "      <th>KPIs_met &gt;80%</th>\n",
       "      <th>awards_won?</th>\n",
       "      <th>avg_training_score</th>\n",
       "      <th>is_promoted</th>\n",
       "    </tr>\n",
       "  </thead>\n",
       "  <tbody>\n",
       "    <tr>\n",
       "      <th>0</th>\n",
       "      <td>65438</td>\n",
       "      <td>Sales &amp; Marketing</td>\n",
       "      <td>region_7</td>\n",
       "      <td>Master's &amp; above</td>\n",
       "      <td>f</td>\n",
       "      <td>sourcing</td>\n",
       "      <td>1</td>\n",
       "      <td>35</td>\n",
       "      <td>5.00</td>\n",
       "      <td>8</td>\n",
       "      <td>1</td>\n",
       "      <td>0</td>\n",
       "      <td>49</td>\n",
       "      <td>0</td>\n",
       "    </tr>\n",
       "    <tr>\n",
       "      <th>1</th>\n",
       "      <td>65141</td>\n",
       "      <td>Operations</td>\n",
       "      <td>region_22</td>\n",
       "      <td>Bachelor's</td>\n",
       "      <td>m</td>\n",
       "      <td>other</td>\n",
       "      <td>1</td>\n",
       "      <td>30</td>\n",
       "      <td>5.00</td>\n",
       "      <td>4</td>\n",
       "      <td>0</td>\n",
       "      <td>0</td>\n",
       "      <td>60</td>\n",
       "      <td>0</td>\n",
       "    </tr>\n",
       "    <tr>\n",
       "      <th>2</th>\n",
       "      <td>7513</td>\n",
       "      <td>Sales &amp; Marketing</td>\n",
       "      <td>region_19</td>\n",
       "      <td>Bachelor's</td>\n",
       "      <td>m</td>\n",
       "      <td>sourcing</td>\n",
       "      <td>1</td>\n",
       "      <td>34</td>\n",
       "      <td>3.00</td>\n",
       "      <td>7</td>\n",
       "      <td>0</td>\n",
       "      <td>0</td>\n",
       "      <td>50</td>\n",
       "      <td>0</td>\n",
       "    </tr>\n",
       "    <tr>\n",
       "      <th>3</th>\n",
       "      <td>2542</td>\n",
       "      <td>Sales &amp; Marketing</td>\n",
       "      <td>region_23</td>\n",
       "      <td>Bachelor's</td>\n",
       "      <td>m</td>\n",
       "      <td>other</td>\n",
       "      <td>2</td>\n",
       "      <td>39</td>\n",
       "      <td>1.00</td>\n",
       "      <td>10</td>\n",
       "      <td>0</td>\n",
       "      <td>0</td>\n",
       "      <td>50</td>\n",
       "      <td>0</td>\n",
       "    </tr>\n",
       "    <tr>\n",
       "      <th>4</th>\n",
       "      <td>48945</td>\n",
       "      <td>Technology</td>\n",
       "      <td>region_26</td>\n",
       "      <td>Bachelor's</td>\n",
       "      <td>m</td>\n",
       "      <td>other</td>\n",
       "      <td>1</td>\n",
       "      <td>45</td>\n",
       "      <td>3.00</td>\n",
       "      <td>2</td>\n",
       "      <td>0</td>\n",
       "      <td>0</td>\n",
       "      <td>73</td>\n",
       "      <td>0</td>\n",
       "    </tr>\n",
       "  </tbody>\n",
       "</table>\n",
       "</div>"
      ],
      "text/plain": [
       "   employee_id         department     region         education gender  \\\n",
       "0        65438  Sales & Marketing   region_7  Master's & above      f   \n",
       "1        65141         Operations  region_22        Bachelor's      m   \n",
       "2         7513  Sales & Marketing  region_19        Bachelor's      m   \n",
       "3         2542  Sales & Marketing  region_23        Bachelor's      m   \n",
       "4        48945         Technology  region_26        Bachelor's      m   \n",
       "\n",
       "  recruitment_channel  no_of_trainings  age  previous_year_rating  \\\n",
       "0            sourcing                1   35                  5.00   \n",
       "1               other                1   30                  5.00   \n",
       "2            sourcing                1   34                  3.00   \n",
       "3               other                2   39                  1.00   \n",
       "4               other                1   45                  3.00   \n",
       "\n",
       "   length_of_service  KPIs_met >80%  awards_won?  avg_training_score  \\\n",
       "0                  8              1            0                  49   \n",
       "1                  4              0            0                  60   \n",
       "2                  7              0            0                  50   \n",
       "3                 10              0            0                  50   \n",
       "4                  2              0            0                  73   \n",
       "\n",
       "   is_promoted  \n",
       "0            0  \n",
       "1            0  \n",
       "2            0  \n",
       "3            0  \n",
       "4            0  "
      ]
     },
     "execution_count": 4,
     "metadata": {},
     "output_type": "execute_result"
    }
   ],
   "source": [
    "train_data.head()"
   ]
  },
  {
   "cell_type": "code",
   "execution_count": 5,
   "metadata": {},
   "outputs": [
    {
     "name": "stdout",
     "output_type": "stream",
     "text": [
      "<class 'pandas.core.frame.DataFrame'>\n",
      "RangeIndex: 54808 entries, 0 to 54807\n",
      "Data columns (total 14 columns):\n",
      "employee_id             54808 non-null int64\n",
      "department              54808 non-null object\n",
      "region                  54808 non-null object\n",
      "education               52399 non-null object\n",
      "gender                  54808 non-null object\n",
      "recruitment_channel     54808 non-null object\n",
      "no_of_trainings         54808 non-null int64\n",
      "age                     54808 non-null int64\n",
      "previous_year_rating    50684 non-null float64\n",
      "length_of_service       54808 non-null int64\n",
      "KPIs_met >80%           54808 non-null int64\n",
      "awards_won?             54808 non-null int64\n",
      "avg_training_score      54808 non-null int64\n",
      "is_promoted             54808 non-null int64\n",
      "dtypes: float64(1), int64(8), object(5)\n",
      "memory usage: 5.9+ MB\n"
     ]
    }
   ],
   "source": [
    "train_data.info()"
   ]
  },
  {
   "cell_type": "code",
   "execution_count": 6,
   "metadata": {},
   "outputs": [
    {
     "name": "stdout",
     "output_type": "stream",
     "text": [
      "\n",
      "\n",
      "employee_id Unique values- 54808\n",
      "\n",
      " [65438 65141  7513 ... 13918 13614 51526]\n",
      "\n",
      "\n",
      "department Unique values- 9\n",
      "\n",
      " ['Sales & Marketing' 'Operations' 'Technology' 'Analytics' 'R&D'\n",
      " 'Procurement' 'Finance' 'HR' 'Legal']\n",
      "\n",
      "\n",
      "region Unique values- 34\n",
      "\n",
      " ['region_7' 'region_22' 'region_19' 'region_23' 'region_26' 'region_2'\n",
      " 'region_20' 'region_34' 'region_1' 'region_4' 'region_29' 'region_31'\n",
      " 'region_15' 'region_14' 'region_11' 'region_5' 'region_28' 'region_17'\n",
      " 'region_13' 'region_16' 'region_25' 'region_10' 'region_27' 'region_30'\n",
      " 'region_12' 'region_21' 'region_8' 'region_32' 'region_6' 'region_33'\n",
      " 'region_24' 'region_3' 'region_9' 'region_18']\n",
      "\n",
      "\n",
      "education Unique values- 3\n",
      "\n",
      " [\"Master's & above\" \"Bachelor's\" nan 'Below Secondary']\n",
      "\n",
      "\n",
      "gender Unique values- 2\n",
      "\n",
      " ['f' 'm']\n",
      "\n",
      "\n",
      "recruitment_channel Unique values- 3\n",
      "\n",
      " ['sourcing' 'other' 'referred']\n",
      "\n",
      "\n",
      "no_of_trainings Unique values- 10\n",
      "\n",
      " [ 1  2  3  4  7  5  6  8 10  9]\n",
      "\n",
      "\n",
      "age Unique values- 41\n",
      "\n",
      " [35 30 34 39 45 31 33 28 32 49 37 38 41 27 29 26 24 57 40 42 23 59 44 50\n",
      " 56 20 25 47 36 46 60 43 22 54 58 48 53 55 51 52 21]\n",
      "\n",
      "\n",
      "previous_year_rating Unique values- 5\n",
      "\n",
      " [ 5.  3.  1.  4. nan  2.]\n",
      "\n",
      "\n",
      "length_of_service Unique values- 35\n",
      "\n",
      " [ 8  4  7 10  2  5  6  1  3 16  9 11 26 12 17 14 13 19 15 23 18 20 22 25\n",
      " 28 24 31 21 29 30 34 27 33 32 37]\n",
      "\n",
      "\n",
      "KPIs_met >80% Unique values- 2\n",
      "\n",
      " [1 0]\n",
      "\n",
      "\n",
      "awards_won? Unique values- 2\n",
      "\n",
      " [0 1]\n",
      "\n",
      "\n",
      "avg_training_score Unique values- 61\n",
      "\n",
      " [49 60 50 73 85 59 63 83 54 77 80 84 51 46 75 57 70 68 79 44 72 61 48 58\n",
      " 87 47 52 88 71 65 62 53 78 91 82 69 55 74 86 90 92 67 89 56 76 81 45 64\n",
      " 39 94 93 66 95 42 96 40 99 43 97 41 98]\n",
      "\n",
      "\n",
      "is_promoted Unique values- 2\n",
      "\n",
      " [0 1]\n"
     ]
    }
   ],
   "source": [
    "for i in train_data.columns:\n",
    "    print(\"\\n\\n{} Unique values- {}\\n\\n {}\".format(i,train_data[i].nunique(),train_data[i].unique()))"
   ]
  },
  {
   "cell_type": "code",
   "execution_count": 7,
   "metadata": {},
   "outputs": [
    {
     "data": {
      "text/html": [
       "<div>\n",
       "<style scoped>\n",
       "    .dataframe tbody tr th:only-of-type {\n",
       "        vertical-align: middle;\n",
       "    }\n",
       "\n",
       "    .dataframe tbody tr th {\n",
       "        vertical-align: top;\n",
       "    }\n",
       "\n",
       "    .dataframe thead th {\n",
       "        text-align: right;\n",
       "    }\n",
       "</style>\n",
       "<table border=\"1\" class=\"dataframe\">\n",
       "  <thead>\n",
       "    <tr style=\"text-align: right;\">\n",
       "      <th></th>\n",
       "      <th>employee_id</th>\n",
       "      <th>no_of_trainings</th>\n",
       "      <th>age</th>\n",
       "      <th>previous_year_rating</th>\n",
       "      <th>length_of_service</th>\n",
       "      <th>KPIs_met &gt;80%</th>\n",
       "      <th>awards_won?</th>\n",
       "      <th>avg_training_score</th>\n",
       "      <th>is_promoted</th>\n",
       "    </tr>\n",
       "  </thead>\n",
       "  <tbody>\n",
       "    <tr>\n",
       "      <th>count</th>\n",
       "      <td>54808.00</td>\n",
       "      <td>54808.00</td>\n",
       "      <td>54808.00</td>\n",
       "      <td>50684.00</td>\n",
       "      <td>54808.00</td>\n",
       "      <td>54808.00</td>\n",
       "      <td>54808.00</td>\n",
       "      <td>54808.00</td>\n",
       "      <td>54808.00</td>\n",
       "    </tr>\n",
       "    <tr>\n",
       "      <th>mean</th>\n",
       "      <td>39195.83</td>\n",
       "      <td>1.25</td>\n",
       "      <td>34.80</td>\n",
       "      <td>3.33</td>\n",
       "      <td>5.87</td>\n",
       "      <td>0.35</td>\n",
       "      <td>0.02</td>\n",
       "      <td>63.39</td>\n",
       "      <td>0.09</td>\n",
       "    </tr>\n",
       "    <tr>\n",
       "      <th>std</th>\n",
       "      <td>22586.58</td>\n",
       "      <td>0.61</td>\n",
       "      <td>7.66</td>\n",
       "      <td>1.26</td>\n",
       "      <td>4.27</td>\n",
       "      <td>0.48</td>\n",
       "      <td>0.15</td>\n",
       "      <td>13.37</td>\n",
       "      <td>0.28</td>\n",
       "    </tr>\n",
       "    <tr>\n",
       "      <th>min</th>\n",
       "      <td>1.00</td>\n",
       "      <td>1.00</td>\n",
       "      <td>20.00</td>\n",
       "      <td>1.00</td>\n",
       "      <td>1.00</td>\n",
       "      <td>0.00</td>\n",
       "      <td>0.00</td>\n",
       "      <td>39.00</td>\n",
       "      <td>0.00</td>\n",
       "    </tr>\n",
       "    <tr>\n",
       "      <th>25%</th>\n",
       "      <td>19669.75</td>\n",
       "      <td>1.00</td>\n",
       "      <td>29.00</td>\n",
       "      <td>3.00</td>\n",
       "      <td>3.00</td>\n",
       "      <td>0.00</td>\n",
       "      <td>0.00</td>\n",
       "      <td>51.00</td>\n",
       "      <td>0.00</td>\n",
       "    </tr>\n",
       "    <tr>\n",
       "      <th>50%</th>\n",
       "      <td>39225.50</td>\n",
       "      <td>1.00</td>\n",
       "      <td>33.00</td>\n",
       "      <td>3.00</td>\n",
       "      <td>5.00</td>\n",
       "      <td>0.00</td>\n",
       "      <td>0.00</td>\n",
       "      <td>60.00</td>\n",
       "      <td>0.00</td>\n",
       "    </tr>\n",
       "    <tr>\n",
       "      <th>75%</th>\n",
       "      <td>58730.50</td>\n",
       "      <td>1.00</td>\n",
       "      <td>39.00</td>\n",
       "      <td>4.00</td>\n",
       "      <td>7.00</td>\n",
       "      <td>1.00</td>\n",
       "      <td>0.00</td>\n",
       "      <td>76.00</td>\n",
       "      <td>0.00</td>\n",
       "    </tr>\n",
       "    <tr>\n",
       "      <th>max</th>\n",
       "      <td>78298.00</td>\n",
       "      <td>10.00</td>\n",
       "      <td>60.00</td>\n",
       "      <td>5.00</td>\n",
       "      <td>37.00</td>\n",
       "      <td>1.00</td>\n",
       "      <td>1.00</td>\n",
       "      <td>99.00</td>\n",
       "      <td>1.00</td>\n",
       "    </tr>\n",
       "  </tbody>\n",
       "</table>\n",
       "</div>"
      ],
      "text/plain": [
       "       employee_id  no_of_trainings      age  previous_year_rating  \\\n",
       "count     54808.00         54808.00 54808.00              50684.00   \n",
       "mean      39195.83             1.25    34.80                  3.33   \n",
       "std       22586.58             0.61     7.66                  1.26   \n",
       "min           1.00             1.00    20.00                  1.00   \n",
       "25%       19669.75             1.00    29.00                  3.00   \n",
       "50%       39225.50             1.00    33.00                  3.00   \n",
       "75%       58730.50             1.00    39.00                  4.00   \n",
       "max       78298.00            10.00    60.00                  5.00   \n",
       "\n",
       "       length_of_service  KPIs_met >80%  awards_won?  avg_training_score  \\\n",
       "count           54808.00       54808.00     54808.00            54808.00   \n",
       "mean                5.87           0.35         0.02               63.39   \n",
       "std                 4.27           0.48         0.15               13.37   \n",
       "min                 1.00           0.00         0.00               39.00   \n",
       "25%                 3.00           0.00         0.00               51.00   \n",
       "50%                 5.00           0.00         0.00               60.00   \n",
       "75%                 7.00           1.00         0.00               76.00   \n",
       "max                37.00           1.00         1.00               99.00   \n",
       "\n",
       "       is_promoted  \n",
       "count     54808.00  \n",
       "mean          0.09  \n",
       "std           0.28  \n",
       "min           0.00  \n",
       "25%           0.00  \n",
       "50%           0.00  \n",
       "75%           0.00  \n",
       "max           1.00  "
      ]
     },
     "execution_count": 7,
     "metadata": {},
     "output_type": "execute_result"
    }
   ],
   "source": [
    "train_data.describe()"
   ]
  },
  {
   "cell_type": "code",
   "execution_count": 8,
   "metadata": {},
   "outputs": [
    {
     "data": {
      "text/html": [
       "<div>\n",
       "<style scoped>\n",
       "    .dataframe tbody tr th:only-of-type {\n",
       "        vertical-align: middle;\n",
       "    }\n",
       "\n",
       "    .dataframe tbody tr th {\n",
       "        vertical-align: top;\n",
       "    }\n",
       "\n",
       "    .dataframe thead th {\n",
       "        text-align: right;\n",
       "    }\n",
       "</style>\n",
       "<table border=\"1\" class=\"dataframe\">\n",
       "  <thead>\n",
       "    <tr style=\"text-align: right;\">\n",
       "      <th></th>\n",
       "      <th>department</th>\n",
       "      <th>region</th>\n",
       "      <th>education</th>\n",
       "      <th>gender</th>\n",
       "      <th>recruitment_channel</th>\n",
       "    </tr>\n",
       "  </thead>\n",
       "  <tbody>\n",
       "    <tr>\n",
       "      <th>count</th>\n",
       "      <td>54808</td>\n",
       "      <td>54808</td>\n",
       "      <td>52399</td>\n",
       "      <td>54808</td>\n",
       "      <td>54808</td>\n",
       "    </tr>\n",
       "    <tr>\n",
       "      <th>unique</th>\n",
       "      <td>9</td>\n",
       "      <td>34</td>\n",
       "      <td>3</td>\n",
       "      <td>2</td>\n",
       "      <td>3</td>\n",
       "    </tr>\n",
       "    <tr>\n",
       "      <th>top</th>\n",
       "      <td>Sales &amp; Marketing</td>\n",
       "      <td>region_2</td>\n",
       "      <td>Bachelor's</td>\n",
       "      <td>m</td>\n",
       "      <td>other</td>\n",
       "    </tr>\n",
       "    <tr>\n",
       "      <th>freq</th>\n",
       "      <td>16840</td>\n",
       "      <td>12343</td>\n",
       "      <td>36669</td>\n",
       "      <td>38496</td>\n",
       "      <td>30446</td>\n",
       "    </tr>\n",
       "  </tbody>\n",
       "</table>\n",
       "</div>"
      ],
      "text/plain": [
       "               department    region   education gender recruitment_channel\n",
       "count               54808     54808       52399  54808               54808\n",
       "unique                  9        34           3      2                   3\n",
       "top     Sales & Marketing  region_2  Bachelor's      m               other\n",
       "freq                16840     12343       36669  38496               30446"
      ]
     },
     "execution_count": 8,
     "metadata": {},
     "output_type": "execute_result"
    }
   ],
   "source": [
    "train_data.describe(include=\"O\")"
   ]
  },
  {
   "cell_type": "markdown",
   "metadata": {},
   "source": [
    "### Target Variable: `is_promoted`"
   ]
  },
  {
   "cell_type": "code",
   "execution_count": 9,
   "metadata": {},
   "outputs": [
    {
     "data": {
      "text/plain": [
       "0   0.91\n",
       "1   0.09\n",
       "Name: is_promoted, dtype: float64"
      ]
     },
     "execution_count": 9,
     "metadata": {},
     "output_type": "execute_result"
    }
   ],
   "source": [
    "\n",
    "train_data[\"is_promoted\"].value_counts(normalize=True)"
   ]
  },
  {
   "cell_type": "code",
   "execution_count": 10,
   "metadata": {},
   "outputs": [
    {
     "data": {
      "image/png": "[encoded data removed]",
      "text/plain": [
       "<Figure size 432x288 with 1 Axes>"
      ]
     },
     "metadata": {
      "needs_background": "light"
     },
     "output_type": "display_data"
    }
   ],
   "source": [
    "sns.countplot(train_data[\"is_promoted\"]);"
   ]
  },
  {
   "cell_type": "markdown",
   "metadata": {},
   "source": [
    "Target Variable (is_promoted) is class imbalanced with 91.48% of Data observations as 0 (not promoted) and only 8.517% as 1(promoted)"
   ]
  },
  {
   "cell_type": "markdown",
   "metadata": {},
   "source": [
    "### Independent Variables:"
   ]
  },
  {
   "cell_type": "code",
   "execution_count": 11,
   "metadata": {},
   "outputs": [
    {
     "name": "stdout",
     "output_type": "stream",
     "text": [
      "13 Independent Variables are available as per Dataset:\n",
      "\n",
      "['employee_id', 'department', 'region', 'education', 'gender', 'recruitment_channel', 'no_of_trainings', 'age', 'previous_year_rating', 'length_of_service', 'KPIs_met >80%', 'awards_won?', 'avg_training_score']\n"
     ]
    }
   ],
   "source": [
    "iv=list(train_data.drop([\"is_promoted\"],axis=1).columns.values)\n",
    "print(\"{} Independent Variables are available as per Dataset:\\n\\n{}\".format(len(iv),iv))"
   ]
  },
  {
   "cell_type": "markdown",
   "metadata": {},
   "source": [
    "##### employee_id\n",
    "employee_id is a unique id and it can be dropped from analysis and to train the model"
   ]
  },
  {
   "cell_type": "code",
   "execution_count": 12,
   "metadata": {},
   "outputs": [],
   "source": [
    "train_data.drop([\"employee_id\"],axis=1,inplace=True)"
   ]
  },
  {
   "cell_type": "markdown",
   "metadata": {},
   "source": [
    "##### Department"
   ]
  },
  {
   "cell_type": "code",
   "execution_count": 13,
   "metadata": {},
   "outputs": [
    {
     "data": {
      "image/png": "[encoded data removed]",
      "text/plain": [
       "<Figure size 864x432 with 1 Axes>"
      ]
     },
     "metadata": {
      "needs_background": "light"
     },
     "output_type": "display_data"
    }
   ],
   "source": [
    "plt.figure(figsize=(12,6))\n",
    "sns.countplot(train_data[\"department\"],hue=train_data[\"is_promoted\"]);\n"
   ]
  },
  {
   "cell_type": "markdown",
   "metadata": {},
   "source": [
    "###### Chi Square Test for Independence:\n",
    "\n",
    "Used to determine if there is a significant relationship between two nominal categorical variables. the frequency of each category of a nominal variable is compared across frequecny of each category of second nominal variable.The data can be displayed in a contigency table\n",
    "\n",
    "`Null Hypothesis`: There is no significant relationship between variable 1 and variable 2\n",
    "\n",
    "\n",
    "`Alternate Hypothesis`: There is a significant relationship between variable 1 and variable 2\n",
    "\n",
    "Example:\n",
    "\n",
    "\n",
    "`Null Hypothesis`: There is no significant relationship between gender and empathy\n",
    "\n",
    "\n",
    "`Alternate Hypothesis`: There is a significant relationship between gender and empathy\n"
   ]
  },
  {
   "cell_type": "code",
   "execution_count": 14,
   "metadata": {},
   "outputs": [
    {
     "data": {
      "text/html": [
       "<div>\n",
       "<style scoped>\n",
       "    .dataframe tbody tr th:only-of-type {\n",
       "        vertical-align: middle;\n",
       "    }\n",
       "\n",
       "    .dataframe tbody tr th {\n",
       "        vertical-align: top;\n",
       "    }\n",
       "\n",
       "    .dataframe thead th {\n",
       "        text-align: right;\n",
       "    }\n",
       "</style>\n",
       "<table border=\"1\" class=\"dataframe\">\n",
       "  <thead>\n",
       "    <tr style=\"text-align: right;\">\n",
       "      <th>is_promoted</th>\n",
       "      <th>0</th>\n",
       "      <th>1</th>\n",
       "    </tr>\n",
       "    <tr>\n",
       "      <th>department</th>\n",
       "      <th></th>\n",
       "      <th></th>\n",
       "    </tr>\n",
       "  </thead>\n",
       "  <tbody>\n",
       "    <tr>\n",
       "      <th>Analytics</th>\n",
       "      <td>4840</td>\n",
       "      <td>512</td>\n",
       "    </tr>\n",
       "    <tr>\n",
       "      <th>Finance</th>\n",
       "      <td>2330</td>\n",
       "      <td>206</td>\n",
       "    </tr>\n",
       "    <tr>\n",
       "      <th>HR</th>\n",
       "      <td>2282</td>\n",
       "      <td>136</td>\n",
       "    </tr>\n",
       "    <tr>\n",
       "      <th>Legal</th>\n",
       "      <td>986</td>\n",
       "      <td>53</td>\n",
       "    </tr>\n",
       "    <tr>\n",
       "      <th>Operations</th>\n",
       "      <td>10325</td>\n",
       "      <td>1023</td>\n",
       "    </tr>\n",
       "    <tr>\n",
       "      <th>Procurement</th>\n",
       "      <td>6450</td>\n",
       "      <td>688</td>\n",
       "    </tr>\n",
       "    <tr>\n",
       "      <th>R&amp;D</th>\n",
       "      <td>930</td>\n",
       "      <td>69</td>\n",
       "    </tr>\n",
       "    <tr>\n",
       "      <th>Sales &amp; Marketing</th>\n",
       "      <td>15627</td>\n",
       "      <td>1213</td>\n",
       "    </tr>\n",
       "    <tr>\n",
       "      <th>Technology</th>\n",
       "      <td>6370</td>\n",
       "      <td>768</td>\n",
       "    </tr>\n",
       "  </tbody>\n",
       "</table>\n",
       "</div>"
      ],
      "text/plain": [
       "is_promoted            0     1\n",
       "department                    \n",
       "Analytics           4840   512\n",
       "Finance             2330   206\n",
       "HR                  2282   136\n",
       "Legal                986    53\n",
       "Operations         10325  1023\n",
       "Procurement         6450   688\n",
       "R&D                  930    69\n",
       "Sales & Marketing  15627  1213\n",
       "Technology          6370   768"
      ]
     },
     "execution_count": 14,
     "metadata": {},
     "output_type": "execute_result"
    }
   ],
   "source": [
    "department_contigency=train_data[[\"department\",\"is_promoted\"]].pivot_table(index=\"department\",columns=\"is_promoted\",aggfunc=len,fill_value=0)\n",
    "department_contigency"
   ]
  },
  {
   "cell_type": "markdown",
   "metadata": {},
   "source": [
    "##### Pearson’s chi-squared test for independence\n",
    "`Null hypothesis`: Assumes that there is no association between department and is_promoted.\n",
    "\n",
    "`Alternative hypothesis`: Assumes that there is an association between department and is_promoted."
   ]
  },
  {
   "cell_type": "code",
   "execution_count": 15,
   "metadata": {},
   "outputs": [
    {
     "name": "stdout",
     "output_type": "stream",
     "text": [
      "Calucalted Statistic: 151.4263551632387  \n",
      "\n",
      "P-Value: 9.882497107474632e-29  \n",
      "\n",
      "Significant Value: 0.050000000000000044  \n",
      "\n",
      "Rejected Null Hypothesis and Department is a Significant variable to Predict Target Class with a probability of 100.0%\n"
     ]
    }
   ],
   "source": [
    "from scipy import stats\n",
    "from scipy.stats import chi2_contingency\n",
    "stat,p,dof,expected=chi2_contingency(department_contigency)\n",
    "prob=0.95\n",
    "alpha=1-prob\n",
    "if p < alpha:\n",
    "    print(\"Calucalted Statistic: {}  \\n\".format(stat))\n",
    "    print(\"P-Value: {}  \\n\".format(p))\n",
    "    print(\"Significant Value: {}  \\n\".format(alpha))\n",
    "    print(\"Rejected Null Hypothesis and Department is a Significant variable to Predict Target Class with a probability of {}%\".format((1-p)*100))\n",
    "else:\n",
    "    print(\"Failed to Reject Null Hypothesis and Department is not a Significant Variable to Predict Target Classwith a probability of {}%\".format((1-p)*100))\n"
   ]
  },
  {
   "cell_type": "code",
   "execution_count": 16,
   "metadata": {},
   "outputs": [],
   "source": [
    "significant_variables=[]\n",
    "significant_variables.append(\"department\")"
   ]
  },
  {
   "cell_type": "markdown",
   "metadata": {},
   "source": [
    "##### Region"
   ]
  },
  {
   "cell_type": "code",
   "execution_count": 17,
   "metadata": {},
   "outputs": [
    {
     "data": {
      "image/png": "[encoded data removed]",
      "text/plain": [
       "<Figure size 1296x432 with 1 Axes>"
      ]
     },
     "metadata": {
      "needs_background": "light"
     },
     "output_type": "display_data"
    }
   ],
   "source": [
    "plt.figure(figsize=(18,6))\n",
    "s=sns.countplot(train_data[\"region\"],hue=train_data[\"is_promoted\"])\n",
    "plt.setp(s.get_xticklabels(), rotation=90);"
   ]
  },
  {
   "cell_type": "code",
   "execution_count": 18,
   "metadata": {},
   "outputs": [
    {
     "data": {
      "text/html": [
       "<div>\n",
       "<style scoped>\n",
       "    .dataframe tbody tr th:only-of-type {\n",
       "        vertical-align: middle;\n",
       "    }\n",
       "\n",
       "    .dataframe tbody tr th {\n",
       "        vertical-align: top;\n",
       "    }\n",
       "\n",
       "    .dataframe thead th {\n",
       "        text-align: right;\n",
       "    }\n",
       "</style>\n",
       "<table border=\"1\" class=\"dataframe\">\n",
       "  <thead>\n",
       "    <tr style=\"text-align: right;\">\n",
       "      <th>is_promoted</th>\n",
       "      <th>0</th>\n",
       "      <th>1</th>\n",
       "    </tr>\n",
       "    <tr>\n",
       "      <th>region</th>\n",
       "      <th></th>\n",
       "      <th></th>\n",
       "    </tr>\n",
       "  </thead>\n",
       "  <tbody>\n",
       "    <tr>\n",
       "      <th>region_1</th>\n",
       "      <td>552</td>\n",
       "      <td>58</td>\n",
       "    </tr>\n",
       "    <tr>\n",
       "      <th>region_10</th>\n",
       "      <td>597</td>\n",
       "      <td>51</td>\n",
       "    </tr>\n",
       "    <tr>\n",
       "      <th>region_11</th>\n",
       "      <td>1241</td>\n",
       "      <td>74</td>\n",
       "    </tr>\n",
       "    <tr>\n",
       "      <th>region_12</th>\n",
       "      <td>467</td>\n",
       "      <td>33</td>\n",
       "    </tr>\n",
       "    <tr>\n",
       "      <th>region_13</th>\n",
       "      <td>2418</td>\n",
       "      <td>230</td>\n",
       "    </tr>\n",
       "    <tr>\n",
       "      <th>region_14</th>\n",
       "      <td>765</td>\n",
       "      <td>62</td>\n",
       "    </tr>\n",
       "    <tr>\n",
       "      <th>region_15</th>\n",
       "      <td>2586</td>\n",
       "      <td>222</td>\n",
       "    </tr>\n",
       "    <tr>\n",
       "      <th>region_16</th>\n",
       "      <td>1363</td>\n",
       "      <td>102</td>\n",
       "    </tr>\n",
       "    <tr>\n",
       "      <th>region_17</th>\n",
       "      <td>687</td>\n",
       "      <td>109</td>\n",
       "    </tr>\n",
       "    <tr>\n",
       "      <th>region_18</th>\n",
       "      <td>30</td>\n",
       "      <td>1</td>\n",
       "    </tr>\n",
       "    <tr>\n",
       "      <th>region_19</th>\n",
       "      <td>821</td>\n",
       "      <td>53</td>\n",
       "    </tr>\n",
       "    <tr>\n",
       "      <th>region_2</th>\n",
       "      <td>11354</td>\n",
       "      <td>989</td>\n",
       "    </tr>\n",
       "    <tr>\n",
       "      <th>region_20</th>\n",
       "      <td>801</td>\n",
       "      <td>49</td>\n",
       "    </tr>\n",
       "    <tr>\n",
       "      <th>region_21</th>\n",
       "      <td>393</td>\n",
       "      <td>18</td>\n",
       "    </tr>\n",
       "    <tr>\n",
       "      <th>region_22</th>\n",
       "      <td>5694</td>\n",
       "      <td>734</td>\n",
       "    </tr>\n",
       "    <tr>\n",
       "      <th>region_23</th>\n",
       "      <td>1038</td>\n",
       "      <td>137</td>\n",
       "    </tr>\n",
       "    <tr>\n",
       "      <th>region_24</th>\n",
       "      <td>490</td>\n",
       "      <td>18</td>\n",
       "    </tr>\n",
       "    <tr>\n",
       "      <th>region_25</th>\n",
       "      <td>716</td>\n",
       "      <td>103</td>\n",
       "    </tr>\n",
       "    <tr>\n",
       "      <th>region_26</th>\n",
       "      <td>2117</td>\n",
       "      <td>143</td>\n",
       "    </tr>\n",
       "    <tr>\n",
       "      <th>region_27</th>\n",
       "      <td>1528</td>\n",
       "      <td>131</td>\n",
       "    </tr>\n",
       "    <tr>\n",
       "      <th>region_28</th>\n",
       "      <td>1164</td>\n",
       "      <td>154</td>\n",
       "    </tr>\n",
       "    <tr>\n",
       "      <th>region_29</th>\n",
       "      <td>951</td>\n",
       "      <td>43</td>\n",
       "    </tr>\n",
       "    <tr>\n",
       "      <th>region_3</th>\n",
       "      <td>309</td>\n",
       "      <td>37</td>\n",
       "    </tr>\n",
       "    <tr>\n",
       "      <th>region_30</th>\n",
       "      <td>598</td>\n",
       "      <td>59</td>\n",
       "    </tr>\n",
       "    <tr>\n",
       "      <th>region_31</th>\n",
       "      <td>1825</td>\n",
       "      <td>110</td>\n",
       "    </tr>\n",
       "    <tr>\n",
       "      <th>region_32</th>\n",
       "      <td>905</td>\n",
       "      <td>40</td>\n",
       "    </tr>\n",
       "    <tr>\n",
       "      <th>region_33</th>\n",
       "      <td>259</td>\n",
       "      <td>10</td>\n",
       "    </tr>\n",
       "    <tr>\n",
       "      <th>region_34</th>\n",
       "      <td>284</td>\n",
       "      <td>8</td>\n",
       "    </tr>\n",
       "    <tr>\n",
       "      <th>region_4</th>\n",
       "      <td>1457</td>\n",
       "      <td>246</td>\n",
       "    </tr>\n",
       "    <tr>\n",
       "      <th>region_5</th>\n",
       "      <td>731</td>\n",
       "      <td>35</td>\n",
       "    </tr>\n",
       "    <tr>\n",
       "      <th>region_6</th>\n",
       "      <td>658</td>\n",
       "      <td>32</td>\n",
       "    </tr>\n",
       "    <tr>\n",
       "      <th>region_7</th>\n",
       "      <td>4327</td>\n",
       "      <td>516</td>\n",
       "    </tr>\n",
       "    <tr>\n",
       "      <th>region_8</th>\n",
       "      <td>602</td>\n",
       "      <td>53</td>\n",
       "    </tr>\n",
       "    <tr>\n",
       "      <th>region_9</th>\n",
       "      <td>412</td>\n",
       "      <td>8</td>\n",
       "    </tr>\n",
       "  </tbody>\n",
       "</table>\n",
       "</div>"
      ],
      "text/plain": [
       "is_promoted      0    1\n",
       "region                 \n",
       "region_1       552   58\n",
       "region_10      597   51\n",
       "region_11     1241   74\n",
       "region_12      467   33\n",
       "region_13     2418  230\n",
       "region_14      765   62\n",
       "region_15     2586  222\n",
       "region_16     1363  102\n",
       "region_17      687  109\n",
       "region_18       30    1\n",
       "region_19      821   53\n",
       "region_2     11354  989\n",
       "region_20      801   49\n",
       "region_21      393   18\n",
       "region_22     5694  734\n",
       "region_23     1038  137\n",
       "region_24      490   18\n",
       "region_25      716  103\n",
       "region_26     2117  143\n",
       "region_27     1528  131\n",
       "region_28     1164  154\n",
       "region_29      951   43\n",
       "region_3       309   37\n",
       "region_30      598   59\n",
       "region_31     1825  110\n",
       "region_32      905   40\n",
       "region_33      259   10\n",
       "region_34      284    8\n",
       "region_4      1457  246\n",
       "region_5       731   35\n",
       "region_6       658   32\n",
       "region_7      4327  516\n",
       "region_8       602   53\n",
       "region_9       412    8"
      ]
     },
     "execution_count": 18,
     "metadata": {},
     "output_type": "execute_result"
    }
   ],
   "source": [
    "region_contigency=train_data[[\"region\",\"is_promoted\"]].pivot_table(index=\"region\",columns=\"is_promoted\",aggfunc=len,fill_value=0)\n",
    "region_contigency"
   ]
  },
  {
   "cell_type": "markdown",
   "metadata": {},
   "source": [
    "###### ChiSquare test of Independence\n",
    "\n",
    "`Null Hypothesis`: There is no significant relation between Region and is_promote\n",
    "\n",
    "`Alternate Hypothesis`: There is a significant relation between Region and is_promote"
   ]
  },
  {
   "cell_type": "code",
   "execution_count": 19,
   "metadata": {},
   "outputs": [
    {
     "name": "stdout",
     "output_type": "stream",
     "text": [
      "Calucalted Statistic: 475.6402377579206  \n",
      "\n",
      "P-Value: 7.275378205784026e-80  \n",
      "\n",
      "Significant Value: 0.050000000000000044  \n",
      "\n",
      "Rejected Null Hypothesis and region is a Significant variable to Predict Target Class with a probability of 100.0%\n"
     ]
    }
   ],
   "source": [
    "stat,p,dof,expected=chi2_contingency(region_contigency)\n",
    "prob=0.95\n",
    "alpha=1-prob\n",
    "if p<alpha:\n",
    "    print(\"Calucalted Statistic: {}  \\n\".format(stat))\n",
    "    print(\"P-Value: {}  \\n\".format(p))\n",
    "    print(\"Significant Value: {}  \\n\".format(alpha))\n",
    "    print(\"Rejected Null Hypothesis and region is a Significant variable to Predict Target Class with a probability of {}%\".format((1-p)*100))\n",
    "else:\n",
    "    print(\"Failed to Reject Null Hypothesis and region is not a Significant Variable to Predict Target Classwith a probability of {}%\".format((1-p)*100))\n"
   ]
  },
  {
   "cell_type": "code",
   "execution_count": 20,
   "metadata": {},
   "outputs": [],
   "source": [
    "significant_variables.append(\"region\")"
   ]
  },
  {
   "cell_type": "markdown",
   "metadata": {},
   "source": [
    "##### Education"
   ]
  },
  {
   "cell_type": "code",
   "execution_count": 21,
   "metadata": {},
   "outputs": [
    {
     "data": {
      "image/png": "[encoded data removed]",
      "text/plain": [
       "<Figure size 432x288 with 1 Axes>"
      ]
     },
     "metadata": {
      "needs_background": "light"
     },
     "output_type": "display_data"
    }
   ],
   "source": [
    "sns.countplot(train_data[\"education\"],hue=train_data[\"is_promoted\"]);"
   ]
  },
  {
   "cell_type": "code",
   "execution_count": 22,
   "metadata": {},
   "outputs": [
    {
     "data": {
      "text/html": [
       "<div>\n",
       "<style scoped>\n",
       "    .dataframe tbody tr th:only-of-type {\n",
       "        vertical-align: middle;\n",
       "    }\n",
       "\n",
       "    .dataframe tbody tr th {\n",
       "        vertical-align: top;\n",
       "    }\n",
       "\n",
       "    .dataframe thead th {\n",
       "        text-align: right;\n",
       "    }\n",
       "</style>\n",
       "<table border=\"1\" class=\"dataframe\">\n",
       "  <thead>\n",
       "    <tr style=\"text-align: right;\">\n",
       "      <th>is_promoted</th>\n",
       "      <th>0</th>\n",
       "      <th>1</th>\n",
       "    </tr>\n",
       "    <tr>\n",
       "      <th>education</th>\n",
       "      <th></th>\n",
       "      <th></th>\n",
       "    </tr>\n",
       "  </thead>\n",
       "  <tbody>\n",
       "    <tr>\n",
       "      <th>Bachelor's</th>\n",
       "      <td>33661</td>\n",
       "      <td>3008</td>\n",
       "    </tr>\n",
       "    <tr>\n",
       "      <th>Below Secondary</th>\n",
       "      <td>738</td>\n",
       "      <td>67</td>\n",
       "    </tr>\n",
       "    <tr>\n",
       "      <th>Master's &amp; above</th>\n",
       "      <td>13454</td>\n",
       "      <td>1471</td>\n",
       "    </tr>\n",
       "  </tbody>\n",
       "</table>\n",
       "</div>"
      ],
      "text/plain": [
       "is_promoted           0     1\n",
       "education                    \n",
       "Bachelor's        33661  3008\n",
       "Below Secondary     738    67\n",
       "Master's & above  13454  1471"
      ]
     },
     "execution_count": 22,
     "metadata": {},
     "output_type": "execute_result"
    }
   ],
   "source": [
    "education_contigency=train_data[[\"education\",\"is_promoted\"]].pivot_table(index=\"education\",columns=\"is_promoted\",aggfunc=len,fill_value=0)\n",
    "education_contigency"
   ]
  },
  {
   "cell_type": "code",
   "execution_count": 23,
   "metadata": {},
   "outputs": [
    {
     "name": "stdout",
     "output_type": "stream",
     "text": [
      "Calucalted Statistic: 36.70295913519633  \n",
      "\n",
      "P-Value: 1.0716517784616584e-08  \n",
      "\n",
      "Significant Value: 0.050000000000000044  \n",
      "\n",
      "Rejected Null Hypothesis and education is a Significant variable to Predict Target Class with a probability of 99.99999892834822%\n"
     ]
    }
   ],
   "source": [
    "stat,p,dof,expected=chi2_contingency(education_contigency)\n",
    "prob=0.95\n",
    "alpha=1-prob\n",
    "if p<alpha:\n",
    "    print(\"Calucalted Statistic: {}  \\n\".format(stat))\n",
    "    print(\"P-Value: {}  \\n\".format(p))\n",
    "    print(\"Significant Value: {}  \\n\".format(alpha))\n",
    "    print(\"Rejected Null Hypothesis and education is a Significant variable to Predict Target Class with a probability of {}%\".format((1-p)*100))\n",
    "else:\n",
    "    print(\"Failed to Reject Null Hypothesis and education is not a Significant Variable to Predict Target Classwith a probability of {}%\".format((1-p)*100))\n"
   ]
  },
  {
   "cell_type": "code",
   "execution_count": 24,
   "metadata": {},
   "outputs": [],
   "source": [
    "significant_variables.append(\"education\")"
   ]
  },
  {
   "cell_type": "code",
   "execution_count": 25,
   "metadata": {},
   "outputs": [
    {
     "data": {
      "image/png": "[encoded data removed]",
      "text/plain": [
       "<Figure size 432x288 with 1 Axes>"
      ]
     },
     "metadata": {
      "needs_background": "light"
     },
     "output_type": "display_data"
    }
   ],
   "source": [
    "sns.countplot(train_data[\"gender\"],hue=train_data[\"is_promoted\"]);"
   ]
  },
  {
   "cell_type": "code",
   "execution_count": 26,
   "metadata": {},
   "outputs": [
    {
     "data": {
      "text/html": [
       "<div>\n",
       "<style scoped>\n",
       "    .dataframe tbody tr th:only-of-type {\n",
       "        vertical-align: middle;\n",
       "    }\n",
       "\n",
       "    .dataframe tbody tr th {\n",
       "        vertical-align: top;\n",
       "    }\n",
       "\n",
       "    .dataframe thead th {\n",
       "        text-align: right;\n",
       "    }\n",
       "</style>\n",
       "<table border=\"1\" class=\"dataframe\">\n",
       "  <thead>\n",
       "    <tr style=\"text-align: right;\">\n",
       "      <th>is_promoted</th>\n",
       "      <th>0</th>\n",
       "      <th>1</th>\n",
       "    </tr>\n",
       "    <tr>\n",
       "      <th>gender</th>\n",
       "      <th></th>\n",
       "      <th></th>\n",
       "    </tr>\n",
       "  </thead>\n",
       "  <tbody>\n",
       "    <tr>\n",
       "      <th>f</th>\n",
       "      <td>14845</td>\n",
       "      <td>1467</td>\n",
       "    </tr>\n",
       "    <tr>\n",
       "      <th>m</th>\n",
       "      <td>35295</td>\n",
       "      <td>3201</td>\n",
       "    </tr>\n",
       "  </tbody>\n",
       "</table>\n",
       "</div>"
      ],
      "text/plain": [
       "is_promoted      0     1\n",
       "gender                  \n",
       "f            14845  1467\n",
       "m            35295  3201"
      ]
     },
     "execution_count": 26,
     "metadata": {},
     "output_type": "execute_result"
    }
   ],
   "source": [
    "gender_contigency=train_data[[\"gender\",\"is_promoted\"]].pivot_table(index=\"gender\",columns=\"is_promoted\",aggfunc=len,fill_value=0)\n",
    "gender_contigency"
   ]
  },
  {
   "cell_type": "code",
   "execution_count": 27,
   "metadata": {},
   "outputs": [
    {
     "name": "stdout",
     "output_type": "stream",
     "text": [
      "Calucalted Statistic: 6.677254566546107  \n",
      "\n",
      "P-Value: 0.009765091521176657  \n",
      "\n",
      "Significant Value: 0.050000000000000044  \n",
      "\n",
      "Rejected Null Hypothesis and gender is a Significant variable to Predict Target Class with a probability of 99.02349084788233%\n"
     ]
    }
   ],
   "source": [
    "stat,p,dof,expected=chi2_contingency(gender_contigency)\n",
    "prob=0.95\n",
    "alpha=1-prob\n",
    "if p<alpha:\n",
    "    print(\"Calucalted Statistic: {}  \\n\".format(stat))\n",
    "    print(\"P-Value: {}  \\n\".format(p))\n",
    "    print(\"Significant Value: {}  \\n\".format(alpha))\n",
    "    print(\"Rejected Null Hypothesis and gender is a Significant variable to Predict Target Class with a probability of {}%\".format((1-p)*100))\n",
    "else:\n",
    "    print(\"Failed to Reject Null Hypothesis and gender is not a Significant Variable to Predict Target Classwith a probability of {}%\".format((1-p)*100))\n"
   ]
  },
  {
   "cell_type": "code",
   "execution_count": 28,
   "metadata": {},
   "outputs": [],
   "source": [
    "significant_variables.append(\"gender\")"
   ]
  },
  {
   "cell_type": "code",
   "execution_count": 29,
   "metadata": {},
   "outputs": [
    {
     "data": {
      "image/png": "[encoded data removed]",
      "text/plain": [
       "<Figure size 432x288 with 1 Axes>"
      ]
     },
     "metadata": {
      "needs_background": "light"
     },
     "output_type": "display_data"
    }
   ],
   "source": [
    "sns.countplot(train_data[\"recruitment_channel\"],hue=train_data[\"is_promoted\"]);"
   ]
  },
  {
   "cell_type": "code",
   "execution_count": 30,
   "metadata": {},
   "outputs": [
    {
     "data": {
      "text/html": [
       "<div>\n",
       "<style scoped>\n",
       "    .dataframe tbody tr th:only-of-type {\n",
       "        vertical-align: middle;\n",
       "    }\n",
       "\n",
       "    .dataframe tbody tr th {\n",
       "        vertical-align: top;\n",
       "    }\n",
       "\n",
       "    .dataframe thead th {\n",
       "        text-align: right;\n",
       "    }\n",
       "</style>\n",
       "<table border=\"1\" class=\"dataframe\">\n",
       "  <thead>\n",
       "    <tr style=\"text-align: right;\">\n",
       "      <th>is_promoted</th>\n",
       "      <th>0</th>\n",
       "      <th>1</th>\n",
       "    </tr>\n",
       "    <tr>\n",
       "      <th>recruitment_channel</th>\n",
       "      <th></th>\n",
       "      <th></th>\n",
       "    </tr>\n",
       "  </thead>\n",
       "  <tbody>\n",
       "    <tr>\n",
       "      <th>other</th>\n",
       "      <td>27890</td>\n",
       "      <td>2556</td>\n",
       "    </tr>\n",
       "    <tr>\n",
       "      <th>referred</th>\n",
       "      <td>1004</td>\n",
       "      <td>138</td>\n",
       "    </tr>\n",
       "    <tr>\n",
       "      <th>sourcing</th>\n",
       "      <td>21246</td>\n",
       "      <td>1974</td>\n",
       "    </tr>\n",
       "  </tbody>\n",
       "</table>\n",
       "</div>"
      ],
      "text/plain": [
       "is_promoted              0     1\n",
       "recruitment_channel             \n",
       "other                27890  2556\n",
       "referred              1004   138\n",
       "sourcing             21246  1974"
      ]
     },
     "execution_count": 30,
     "metadata": {},
     "output_type": "execute_result"
    }
   ],
   "source": [
    "recruitment_contigency=train_data[[\"recruitment_channel\",\"is_promoted\"]].pivot_table(index=\"recruitment_channel\",columns=\"is_promoted\",aggfunc=len,fill_value=0)\n",
    "recruitment_contigency"
   ]
  },
  {
   "cell_type": "code",
   "execution_count": 31,
   "metadata": {},
   "outputs": [
    {
     "name": "stdout",
     "output_type": "stream",
     "text": [
      "Calucalted Statistic: 475.6402377579206  \n",
      "\n",
      "P-Value: 7.275378205784026e-80  \n",
      "\n",
      "Significant Value: 0.050000000000000044  \n",
      "\n",
      "Rejected Null Hypothesis and Recruitment Channel is a Significant variable to Predict Target Class with a probability of 100.0%\n"
     ]
    }
   ],
   "source": [
    "stat,p,dof,expected=chi2_contingency(region_contigency)\n",
    "prob=0.95\n",
    "alpha=1-prob\n",
    "if p<alpha:\n",
    "    print(\"Calucalted Statistic: {}  \\n\".format(stat))\n",
    "    print(\"P-Value: {}  \\n\".format(p))\n",
    "    print(\"Significant Value: {}  \\n\".format(alpha))\n",
    "    print(\"Rejected Null Hypothesis and Recruitment Channel is a Significant variable to Predict Target Class with a probability of {}%\".format((1-p)*100))\n",
    "else:\n",
    "    print(\"Failed to Reject Null Hypothesis and Recruitment Channel is not a Significant Variable to Predict Target Classwith a probability of {}%\".format((1-p)*100))\n",
    "\n",
    "    "
   ]
  },
  {
   "cell_type": "code",
   "execution_count": 32,
   "metadata": {},
   "outputs": [],
   "source": [
    "significant_variables.append(\"recruitment_channel\")"
   ]
  },
  {
   "cell_type": "code",
   "execution_count": 33,
   "metadata": {},
   "outputs": [
    {
     "data": {
      "image/png": "[encoded data removed]",
      "text/plain": [
       "<Figure size 432x288 with 1 Axes>"
      ]
     },
     "metadata": {
      "needs_background": "light"
     },
     "output_type": "display_data"
    }
   ],
   "source": [
    "sns.countplot(train_data[\"no_of_trainings\"],hue=train_data[\"is_promoted\"]);"
   ]
  },
  {
   "cell_type": "code",
   "execution_count": 34,
   "metadata": {},
   "outputs": [
    {
     "data": {
      "text/html": [
       "<div>\n",
       "<style scoped>\n",
       "    .dataframe tbody tr th:only-of-type {\n",
       "        vertical-align: middle;\n",
       "    }\n",
       "\n",
       "    .dataframe tbody tr th {\n",
       "        vertical-align: top;\n",
       "    }\n",
       "\n",
       "    .dataframe thead th {\n",
       "        text-align: right;\n",
       "    }\n",
       "</style>\n",
       "<table border=\"1\" class=\"dataframe\">\n",
       "  <thead>\n",
       "    <tr style=\"text-align: right;\">\n",
       "      <th>is_promoted</th>\n",
       "      <th>0</th>\n",
       "      <th>1</th>\n",
       "    </tr>\n",
       "    <tr>\n",
       "      <th>no_of_trainings</th>\n",
       "      <th></th>\n",
       "      <th></th>\n",
       "    </tr>\n",
       "  </thead>\n",
       "  <tbody>\n",
       "    <tr>\n",
       "      <th>1</th>\n",
       "      <td>40468</td>\n",
       "      <td>3910</td>\n",
       "    </tr>\n",
       "    <tr>\n",
       "      <th>2</th>\n",
       "      <td>7382</td>\n",
       "      <td>605</td>\n",
       "    </tr>\n",
       "    <tr>\n",
       "      <th>3</th>\n",
       "      <td>1654</td>\n",
       "      <td>122</td>\n",
       "    </tr>\n",
       "    <tr>\n",
       "      <th>4</th>\n",
       "      <td>442</td>\n",
       "      <td>26</td>\n",
       "    </tr>\n",
       "    <tr>\n",
       "      <th>5</th>\n",
       "      <td>125</td>\n",
       "      <td>3</td>\n",
       "    </tr>\n",
       "    <tr>\n",
       "      <th>6</th>\n",
       "      <td>42</td>\n",
       "      <td>2</td>\n",
       "    </tr>\n",
       "    <tr>\n",
       "      <th>7</th>\n",
       "      <td>12</td>\n",
       "      <td>0</td>\n",
       "    </tr>\n",
       "    <tr>\n",
       "      <th>8</th>\n",
       "      <td>5</td>\n",
       "      <td>0</td>\n",
       "    </tr>\n",
       "    <tr>\n",
       "      <th>9</th>\n",
       "      <td>5</td>\n",
       "      <td>0</td>\n",
       "    </tr>\n",
       "    <tr>\n",
       "      <th>10</th>\n",
       "      <td>5</td>\n",
       "      <td>0</td>\n",
       "    </tr>\n",
       "  </tbody>\n",
       "</table>\n",
       "</div>"
      ],
      "text/plain": [
       "is_promoted          0     1\n",
       "no_of_trainings             \n",
       "1                40468  3910\n",
       "2                 7382   605\n",
       "3                 1654   122\n",
       "4                  442    26\n",
       "5                  125     3\n",
       "6                   42     2\n",
       "7                   12     0\n",
       "8                    5     0\n",
       "9                    5     0\n",
       "10                   5     0"
      ]
     },
     "execution_count": 34,
     "metadata": {},
     "output_type": "execute_result"
    }
   ],
   "source": [
    "training_contigency=train_data[[\"no_of_trainings\",\"is_promoted\"]].pivot_table(index=\"no_of_trainings\",columns=\"is_promoted\",aggfunc=len,fill_value=0)\n",
    "training_contigency"
   ]
  },
  {
   "cell_type": "code",
   "execution_count": 35,
   "metadata": {},
   "outputs": [
    {
     "name": "stdout",
     "output_type": "stream",
     "text": [
      "Calucalted Statistic: 35.132401310728966  \n",
      "\n",
      "P-Value: 5.6462682173663955e-05  \n",
      "\n",
      "Significant Value: 0.050000000000000044  \n",
      "\n",
      "Rejected Null Hypothesis and Number of Trainings is a Significant variable to Predict Target Class with a probability of 99.99435373178264%\n"
     ]
    }
   ],
   "source": [
    "stat,p,dof,expected=chi2_contingency(training_contigency)\n",
    "prob=0.95\n",
    "alpha=1-prob\n",
    "if p<alpha:\n",
    "    print(\"Calucalted Statistic: {}  \\n\".format(stat))\n",
    "    print(\"P-Value: {}  \\n\".format(p))\n",
    "    print(\"Significant Value: {}  \\n\".format(alpha))\n",
    "    print(\"Rejected Null Hypothesis and Number of Trainings is a Significant variable to Predict Target Class with a probability of {}%\".format((1-p)*100))\n",
    "else:\n",
    "    print(\"Failed to Reject Null Hypothesis and Number of Trainings is not a Significant Variable to Predict Target Classwith a probability of {}%\".format((1-p)*100))\n",
    "\n",
    "    "
   ]
  },
  {
   "cell_type": "code",
   "execution_count": 36,
   "metadata": {},
   "outputs": [],
   "source": [
    "significant_variables.append(\"is_promoted\")"
   ]
  },
  {
   "cell_type": "code",
   "execution_count": 37,
   "metadata": {
    "scrolled": true
   },
   "outputs": [
    {
     "data": {
      "image/png": "[encoded data removed]",
      "text/plain": [
       "<Figure size 432x288 with 1 Axes>"
      ]
     },
     "metadata": {
      "needs_background": "light"
     },
     "output_type": "display_data"
    }
   ],
   "source": [
    "sns.distplot(train_data[\"age\"]);"
   ]
  },
  {
   "cell_type": "code",
   "execution_count": 38,
   "metadata": {},
   "outputs": [
    {
     "name": "stdout",
     "output_type": "stream",
     "text": [
      "Average Age for Promoted: 34.372964867180805 \n",
      "Average age for Not-promoted: 34.84403669724771 \n",
      " \n",
      "\n"
     ]
    },
    {
     "data": {
      "image/png": "[encoded data removed]",
      "text/plain": [
       "<Figure size 432x288 with 1 Axes>"
      ]
     },
     "metadata": {
      "needs_background": "light"
     },
     "output_type": "display_data"
    }
   ],
   "source": [
    "np_age=train_data[train_data[\"is_promoted\"]==0][\"age\"].values\n",
    "p_age=train_data[train_data[\"is_promoted\"]==1][\"age\"].values\n",
    "print(\"Average Age for Promoted: {} \\nAverage age for Not-promoted: {} \\n \\n\".format(p_age.mean(),np_age.mean()))\n",
    "plt.title(\"Boxplot for Age\")\n",
    "plt.boxplot([np_age,p_age])\n",
    "plt.xticks([1,2],(\"Not-Promoted\",\"Promoted\"))\n",
    "plt.ylabel('Age')\n",
    "plt.grid()\n",
    "plt.show()"
   ]
  },
  {
   "cell_type": "markdown",
   "metadata": {},
   "source": [
    "#### Z-Test:  whether mean of two groups are statistically different\n",
    "`Null hypothesis`: There is no Significant difference between Means of age between Promoted and not promoted\n",
    "\n",
    "\n",
    "`Alternative hypothesis`: There is Significant difference between Means of age between Promoted and not promoted"
   ]
  },
  {
   "cell_type": "code",
   "execution_count": 39,
   "metadata": {},
   "outputs": [],
   "source": [
    "from statsmodels.stats import weightstats as stests"
   ]
  },
  {
   "cell_type": "code",
   "execution_count": 40,
   "metadata": {},
   "outputs": [
    {
     "name": "stdout",
     "output_type": "stream",
     "text": [
      "Caluclated Statistic: 4.019244411838588  \n",
      "\n",
      "P-Value: 5.838507987333087e-05  \n",
      "\n",
      "Significant Value: 0.050000000000000044  \n",
      "\n",
      "Rejected Null Hypothesis and there is Significant difference between Means of age between Promoted and not promoted  with a probability of 99.99416149201267%\n"
     ]
    }
   ],
   "source": [
    "ztest,pval=stests.ztest(x1=np_age,x2=p_age,value=0,alternative=\"two-sided\")\n",
    "prob=0.95\n",
    "alpha=1-prob\n",
    "if pval<alpha:\n",
    "    print(\"Caluclated Statistic: {}  \\n\".format(ztest))\n",
    "    print(\"P-Value: {}  \\n\".format(pval))\n",
    "    print(\"Significant Value: {}  \\n\".format(alpha))\n",
    "    print(\"Rejected Null Hypothesis and there is Significant difference between Means of age between Promoted and not promoted  with a probability of {}%\".format((1-pval)*100))\n",
    "else:\n",
    "    print(\"Caluclated Statistic: {}  \\n\".format(ztest))\n",
    "    print(\"P-Value: {}  \\n\".format(pval))\n",
    "    print(\"Significant Value: {}  \\n\".format(alpha))\n",
    "    print(\"Failed to reject Null Hypothesis and there is no significant difference between Means of age between Promoted and not promoted  with a probability of {}%\".format((1-pval)*100))"
   ]
  },
  {
   "cell_type": "code",
   "execution_count": 41,
   "metadata": {},
   "outputs": [],
   "source": [
    "significant_variables.append(\"age\")"
   ]
  },
  {
   "cell_type": "code",
   "execution_count": 42,
   "metadata": {},
   "outputs": [
    {
     "data": {
      "image/png": "[encoded data removed]",
      "text/plain": [
       "<Figure size 432x288 with 1 Axes>"
      ]
     },
     "metadata": {
      "needs_background": "light"
     },
     "output_type": "display_data"
    }
   ],
   "source": [
    "sns.countplot(train_data[\"previous_year_rating\"],hue=train_data[\"is_promoted\"]);"
   ]
  },
  {
   "cell_type": "code",
   "execution_count": 43,
   "metadata": {},
   "outputs": [
    {
     "data": {
      "text/html": [
       "<div>\n",
       "<style scoped>\n",
       "    .dataframe tbody tr th:only-of-type {\n",
       "        vertical-align: middle;\n",
       "    }\n",
       "\n",
       "    .dataframe tbody tr th {\n",
       "        vertical-align: top;\n",
       "    }\n",
       "\n",
       "    .dataframe thead th {\n",
       "        text-align: right;\n",
       "    }\n",
       "</style>\n",
       "<table border=\"1\" class=\"dataframe\">\n",
       "  <thead>\n",
       "    <tr style=\"text-align: right;\">\n",
       "      <th>is_promoted</th>\n",
       "      <th>0</th>\n",
       "      <th>1</th>\n",
       "    </tr>\n",
       "    <tr>\n",
       "      <th>previous_year_rating</th>\n",
       "      <th></th>\n",
       "      <th></th>\n",
       "    </tr>\n",
       "  </thead>\n",
       "  <tbody>\n",
       "    <tr>\n",
       "      <th>1.00</th>\n",
       "      <td>6135</td>\n",
       "      <td>88</td>\n",
       "    </tr>\n",
       "    <tr>\n",
       "      <th>2.00</th>\n",
       "      <td>4044</td>\n",
       "      <td>181</td>\n",
       "    </tr>\n",
       "    <tr>\n",
       "      <th>3.00</th>\n",
       "      <td>17263</td>\n",
       "      <td>1355</td>\n",
       "    </tr>\n",
       "    <tr>\n",
       "      <th>4.00</th>\n",
       "      <td>9093</td>\n",
       "      <td>784</td>\n",
       "    </tr>\n",
       "    <tr>\n",
       "      <th>5.00</th>\n",
       "      <td>9820</td>\n",
       "      <td>1921</td>\n",
       "    </tr>\n",
       "  </tbody>\n",
       "</table>\n",
       "</div>"
      ],
      "text/plain": [
       "is_promoted               0     1\n",
       "previous_year_rating             \n",
       "1.00                   6135    88\n",
       "2.00                   4044   181\n",
       "3.00                  17263  1355\n",
       "4.00                   9093   784\n",
       "5.00                   9820  1921"
      ]
     },
     "execution_count": 43,
     "metadata": {},
     "output_type": "execute_result"
    }
   ],
   "source": [
    "rating_contigency=train_data[[\"previous_year_rating\",\"is_promoted\"]].pivot_table(index=\"previous_year_rating\",columns=\"is_promoted\",aggfunc=len,fill_value=0)\n",
    "rating_contigency"
   ]
  },
  {
   "cell_type": "code",
   "execution_count": 44,
   "metadata": {},
   "outputs": [
    {
     "name": "stdout",
     "output_type": "stream",
     "text": [
      "Calucalted Statistic: 1464.50937816034  \n",
      "\n",
      "P-Value: 0.0  \n",
      "\n",
      "Significant Value: 0.050000000000000044  \n",
      "\n",
      "Rejected Null Hypothesis and Previous Rating is a Significant variable to Predict Target Class with a probability of 100.0%\n"
     ]
    }
   ],
   "source": [
    "stat,p,dof,expected=chi2_contingency(rating_contigency)\n",
    "prob=0.95\n",
    "alpha=1-prob\n",
    "if p<alpha:\n",
    "    print(\"Calucalted Statistic: {}  \\n\".format(stat))\n",
    "    print(\"P-Value: {}  \\n\".format(p))\n",
    "    print(\"Significant Value: {}  \\n\".format(alpha))\n",
    "    print(\"Rejected Null Hypothesis and Previous Rating is a Significant variable to Predict Target Class with a probability of {}%\".format((1-p)*100))\n",
    "else:\n",
    "    print(\"Failed to Reject Null Hypothesis and Previous Rating is not a Significant Variable to Predict Target Classwith a probability of {}%\".format((1-p)*100))\n",
    "\n",
    "    "
   ]
  },
  {
   "cell_type": "code",
   "execution_count": 45,
   "metadata": {},
   "outputs": [],
   "source": [
    "significant_variables.append(\"previous_year_rating\")"
   ]
  },
  {
   "cell_type": "code",
   "execution_count": 46,
   "metadata": {},
   "outputs": [
    {
     "data": {
      "image/png": "[encoded data removed]",
      "text/plain": [
       "<Figure size 1152x432 with 1 Axes>"
      ]
     },
     "metadata": {
      "needs_background": "light"
     },
     "output_type": "display_data"
    }
   ],
   "source": [
    "plt.figure(figsize=(16,6))\n",
    "sns.countplot(train_data[\"length_of_service\"],hue=train_data[\"is_promoted\"]);"
   ]
  },
  {
   "cell_type": "code",
   "execution_count": 47,
   "metadata": {},
   "outputs": [
    {
     "data": {
      "text/html": [
       "<div>\n",
       "<style scoped>\n",
       "    .dataframe tbody tr th:only-of-type {\n",
       "        vertical-align: middle;\n",
       "    }\n",
       "\n",
       "    .dataframe tbody tr th {\n",
       "        vertical-align: top;\n",
       "    }\n",
       "\n",
       "    .dataframe thead th {\n",
       "        text-align: right;\n",
       "    }\n",
       "</style>\n",
       "<table border=\"1\" class=\"dataframe\">\n",
       "  <thead>\n",
       "    <tr style=\"text-align: right;\">\n",
       "      <th>is_promoted</th>\n",
       "      <th>0</th>\n",
       "      <th>1</th>\n",
       "    </tr>\n",
       "    <tr>\n",
       "      <th>length_of_service</th>\n",
       "      <th></th>\n",
       "      <th></th>\n",
       "    </tr>\n",
       "  </thead>\n",
       "  <tbody>\n",
       "    <tr>\n",
       "      <th>1</th>\n",
       "      <td>4170</td>\n",
       "      <td>377</td>\n",
       "    </tr>\n",
       "    <tr>\n",
       "      <th>2</th>\n",
       "      <td>6089</td>\n",
       "      <td>595</td>\n",
       "    </tr>\n",
       "    <tr>\n",
       "      <th>3</th>\n",
       "      <td>6424</td>\n",
       "      <td>609</td>\n",
       "    </tr>\n",
       "    <tr>\n",
       "      <th>4</th>\n",
       "      <td>6238</td>\n",
       "      <td>598</td>\n",
       "    </tr>\n",
       "    <tr>\n",
       "      <th>5</th>\n",
       "      <td>5357</td>\n",
       "      <td>475</td>\n",
       "    </tr>\n",
       "    <tr>\n",
       "      <th>6</th>\n",
       "      <td>4333</td>\n",
       "      <td>401</td>\n",
       "    </tr>\n",
       "    <tr>\n",
       "      <th>7</th>\n",
       "      <td>5087</td>\n",
       "      <td>464</td>\n",
       "    </tr>\n",
       "    <tr>\n",
       "      <th>8</th>\n",
       "      <td>2614</td>\n",
       "      <td>269</td>\n",
       "    </tr>\n",
       "    <tr>\n",
       "      <th>9</th>\n",
       "      <td>2400</td>\n",
       "      <td>229</td>\n",
       "    </tr>\n",
       "    <tr>\n",
       "      <th>10</th>\n",
       "      <td>1989</td>\n",
       "      <td>204</td>\n",
       "    </tr>\n",
       "    <tr>\n",
       "      <th>11</th>\n",
       "      <td>820</td>\n",
       "      <td>96</td>\n",
       "    </tr>\n",
       "    <tr>\n",
       "      <th>12</th>\n",
       "      <td>731</td>\n",
       "      <td>63</td>\n",
       "    </tr>\n",
       "    <tr>\n",
       "      <th>13</th>\n",
       "      <td>633</td>\n",
       "      <td>54</td>\n",
       "    </tr>\n",
       "    <tr>\n",
       "      <th>14</th>\n",
       "      <td>520</td>\n",
       "      <td>29</td>\n",
       "    </tr>\n",
       "    <tr>\n",
       "      <th>15</th>\n",
       "      <td>550</td>\n",
       "      <td>43</td>\n",
       "    </tr>\n",
       "    <tr>\n",
       "      <th>16</th>\n",
       "      <td>507</td>\n",
       "      <td>41</td>\n",
       "    </tr>\n",
       "    <tr>\n",
       "      <th>17</th>\n",
       "      <td>406</td>\n",
       "      <td>26</td>\n",
       "    </tr>\n",
       "    <tr>\n",
       "      <th>18</th>\n",
       "      <td>367</td>\n",
       "      <td>25</td>\n",
       "    </tr>\n",
       "    <tr>\n",
       "      <th>19</th>\n",
       "      <td>297</td>\n",
       "      <td>32</td>\n",
       "    </tr>\n",
       "    <tr>\n",
       "      <th>20</th>\n",
       "      <td>118</td>\n",
       "      <td>10</td>\n",
       "    </tr>\n",
       "    <tr>\n",
       "      <th>21</th>\n",
       "      <td>74</td>\n",
       "      <td>4</td>\n",
       "    </tr>\n",
       "    <tr>\n",
       "      <th>22</th>\n",
       "      <td>55</td>\n",
       "      <td>6</td>\n",
       "    </tr>\n",
       "    <tr>\n",
       "      <th>23</th>\n",
       "      <td>58</td>\n",
       "      <td>7</td>\n",
       "    </tr>\n",
       "    <tr>\n",
       "      <th>24</th>\n",
       "      <td>70</td>\n",
       "      <td>0</td>\n",
       "    </tr>\n",
       "    <tr>\n",
       "      <th>25</th>\n",
       "      <td>49</td>\n",
       "      <td>2</td>\n",
       "    </tr>\n",
       "    <tr>\n",
       "      <th>26</th>\n",
       "      <td>41</td>\n",
       "      <td>0</td>\n",
       "    </tr>\n",
       "    <tr>\n",
       "      <th>27</th>\n",
       "      <td>35</td>\n",
       "      <td>1</td>\n",
       "    </tr>\n",
       "    <tr>\n",
       "      <th>28</th>\n",
       "      <td>28</td>\n",
       "      <td>2</td>\n",
       "    </tr>\n",
       "    <tr>\n",
       "      <th>29</th>\n",
       "      <td>27</td>\n",
       "      <td>3</td>\n",
       "    </tr>\n",
       "    <tr>\n",
       "      <th>30</th>\n",
       "      <td>12</td>\n",
       "      <td>0</td>\n",
       "    </tr>\n",
       "    <tr>\n",
       "      <th>31</th>\n",
       "      <td>20</td>\n",
       "      <td>0</td>\n",
       "    </tr>\n",
       "    <tr>\n",
       "      <th>32</th>\n",
       "      <td>8</td>\n",
       "      <td>2</td>\n",
       "    </tr>\n",
       "    <tr>\n",
       "      <th>33</th>\n",
       "      <td>9</td>\n",
       "      <td>0</td>\n",
       "    </tr>\n",
       "    <tr>\n",
       "      <th>34</th>\n",
       "      <td>3</td>\n",
       "      <td>1</td>\n",
       "    </tr>\n",
       "    <tr>\n",
       "      <th>37</th>\n",
       "      <td>1</td>\n",
       "      <td>0</td>\n",
       "    </tr>\n",
       "  </tbody>\n",
       "</table>\n",
       "</div>"
      ],
      "text/plain": [
       "is_promoted           0    1\n",
       "length_of_service           \n",
       "1                  4170  377\n",
       "2                  6089  595\n",
       "3                  6424  609\n",
       "4                  6238  598\n",
       "5                  5357  475\n",
       "6                  4333  401\n",
       "7                  5087  464\n",
       "8                  2614  269\n",
       "9                  2400  229\n",
       "10                 1989  204\n",
       "11                  820   96\n",
       "12                  731   63\n",
       "13                  633   54\n",
       "14                  520   29\n",
       "15                  550   43\n",
       "16                  507   41\n",
       "17                  406   26\n",
       "18                  367   25\n",
       "19                  297   32\n",
       "20                  118   10\n",
       "21                   74    4\n",
       "22                   55    6\n",
       "23                   58    7\n",
       "24                   70    0\n",
       "25                   49    2\n",
       "26                   41    0\n",
       "27                   35    1\n",
       "28                   28    2\n",
       "29                   27    3\n",
       "30                   12    0\n",
       "31                   20    0\n",
       "32                    8    2\n",
       "33                    9    0\n",
       "34                    3    1\n",
       "37                    1    0"
      ]
     },
     "execution_count": 47,
     "metadata": {},
     "output_type": "execute_result"
    }
   ],
   "source": [
    "exp_contigency=train_data[[\"length_of_service\",\"is_promoted\"]].pivot_table(index=\"length_of_service\",columns=\"is_promoted\",aggfunc=len,fill_value=0)\n",
    "exp_contigency"
   ]
  },
  {
   "cell_type": "code",
   "execution_count": 48,
   "metadata": {},
   "outputs": [
    {
     "name": "stdout",
     "output_type": "stream",
     "text": [
      "Calucalted Statistic: 50.98510181681902  \n",
      "\n",
      "P-Value: 0.030778994503083953  \n",
      "\n",
      "Significant Value: 0.050000000000000044  \n",
      "\n",
      "Rejected Null Hypothesis and length_of_service is a Significant variable to Predict Target Class with a probability of 96.9221005496916%\n"
     ]
    }
   ],
   "source": [
    "stat,p,dof,expected=chi2_contingency(exp_contigency)\n",
    "prob=0.95\n",
    "alpha=1-prob\n",
    "if p<alpha:\n",
    "    print(\"Calucalted Statistic: {}  \\n\".format(stat))\n",
    "    print(\"P-Value: {}  \\n\".format(p))\n",
    "    print(\"Significant Value: {}  \\n\".format(alpha))\n",
    "    print(\"Rejected Null Hypothesis and length_of_service is a Significant variable to Predict Target Class with a probability of {}%\".format((1-p)*100))\n",
    "else:\n",
    "    print(\"Failed to Reject Null Hypothesis and length_of_service is not a Significant Variable to Predict Target Classwith a probability of {}%\".format((1-p)*100))\n",
    "\n",
    "    "
   ]
  },
  {
   "cell_type": "code",
   "execution_count": 49,
   "metadata": {},
   "outputs": [],
   "source": [
    "significant_variables.append(\"length_of_service\")"
   ]
  },
  {
   "cell_type": "code",
   "execution_count": 50,
   "metadata": {},
   "outputs": [
    {
     "data": {
      "image/png": "[encoded data removed]",
      "text/plain": [
       "<Figure size 432x288 with 1 Axes>"
      ]
     },
     "metadata": {
      "needs_background": "light"
     },
     "output_type": "display_data"
    }
   ],
   "source": [
    "sns.countplot(train_data[\"KPIs_met >80%\"],hue=train_data[\"is_promoted\"]);"
   ]
  },
  {
   "cell_type": "code",
   "execution_count": 51,
   "metadata": {},
   "outputs": [
    {
     "data": {
      "text/html": [
       "<div>\n",
       "<style scoped>\n",
       "    .dataframe tbody tr th:only-of-type {\n",
       "        vertical-align: middle;\n",
       "    }\n",
       "\n",
       "    .dataframe tbody tr th {\n",
       "        vertical-align: top;\n",
       "    }\n",
       "\n",
       "    .dataframe thead th {\n",
       "        text-align: right;\n",
       "    }\n",
       "</style>\n",
       "<table border=\"1\" class=\"dataframe\">\n",
       "  <thead>\n",
       "    <tr style=\"text-align: right;\">\n",
       "      <th>is_promoted</th>\n",
       "      <th>0</th>\n",
       "      <th>1</th>\n",
       "    </tr>\n",
       "    <tr>\n",
       "      <th>KPIs_met &gt;80%</th>\n",
       "      <th></th>\n",
       "      <th></th>\n",
       "    </tr>\n",
       "  </thead>\n",
       "  <tbody>\n",
       "    <tr>\n",
       "      <th>0</th>\n",
       "      <td>34111</td>\n",
       "      <td>1406</td>\n",
       "    </tr>\n",
       "    <tr>\n",
       "      <th>1</th>\n",
       "      <td>16029</td>\n",
       "      <td>3262</td>\n",
       "    </tr>\n",
       "  </tbody>\n",
       "</table>\n",
       "</div>"
      ],
      "text/plain": [
       "is_promoted        0     1\n",
       "KPIs_met >80%             \n",
       "0              34111  1406\n",
       "1              16029  3262"
      ]
     },
     "execution_count": 51,
     "metadata": {},
     "output_type": "execute_result"
    }
   ],
   "source": [
    "kpi_contigency=train_data[[\"KPIs_met >80%\",\"is_promoted\"]].pivot_table(index=\"KPIs_met >80%\",columns=\"is_promoted\",aggfunc=len,fill_value=0)\n",
    "kpi_contigency"
   ]
  },
  {
   "cell_type": "code",
   "execution_count": 52,
   "metadata": {},
   "outputs": [
    {
     "name": "stdout",
     "output_type": "stream",
     "text": [
      "Calucalted Statistic: 2689.3220548467057  \n",
      "\n",
      "P-Value: 0.0  \n",
      "\n",
      "Significant Value: 0.050000000000000044  \n",
      "\n",
      "Rejected Null Hypothesis and KPIs_met >80% is a Significant variable to Predict Target Class with a probability of 100.0%\n"
     ]
    }
   ],
   "source": [
    "stat,p,dof,expected=chi2_contingency(kpi_contigency)\n",
    "prob=0.95\n",
    "alpha=1-prob\n",
    "if p<alpha:\n",
    "    print(\"Calucalted Statistic: {}  \\n\".format(stat))\n",
    "    print(\"P-Value: {}  \\n\".format(p))\n",
    "    print(\"Significant Value: {}  \\n\".format(alpha))\n",
    "    print(\"Rejected Null Hypothesis and KPIs_met >80% is a Significant variable to Predict Target Class with a probability of {}%\".format((1-p)*100))\n",
    "else:\n",
    "    print(\"Failed to Reject Null Hypothesis and KPIs_met >80% is not a Significant Variable to Predict Target Classwith a probability of {}%\".format((1-p)*100))\n",
    "\n",
    "    "
   ]
  },
  {
   "cell_type": "code",
   "execution_count": 53,
   "metadata": {},
   "outputs": [],
   "source": [
    "significant_variables.append(\"KPIs_met >80%\")"
   ]
  },
  {
   "cell_type": "code",
   "execution_count": 54,
   "metadata": {},
   "outputs": [
    {
     "data": {
      "image/png": "[encoded data removed]",
      "text/plain": [
       "<Figure size 432x288 with 1 Axes>"
      ]
     },
     "metadata": {
      "needs_background": "light"
     },
     "output_type": "display_data"
    }
   ],
   "source": [
    "sns.countplot(train_data[\"awards_won?\"],hue=train_data[\"is_promoted\"]);"
   ]
  },
  {
   "cell_type": "code",
   "execution_count": 55,
   "metadata": {},
   "outputs": [
    {
     "data": {
      "text/html": [
       "<div>\n",
       "<style scoped>\n",
       "    .dataframe tbody tr th:only-of-type {\n",
       "        vertical-align: middle;\n",
       "    }\n",
       "\n",
       "    .dataframe tbody tr th {\n",
       "        vertical-align: top;\n",
       "    }\n",
       "\n",
       "    .dataframe thead th {\n",
       "        text-align: right;\n",
       "    }\n",
       "</style>\n",
       "<table border=\"1\" class=\"dataframe\">\n",
       "  <thead>\n",
       "    <tr style=\"text-align: right;\">\n",
       "      <th>is_promoted</th>\n",
       "      <th>0</th>\n",
       "      <th>1</th>\n",
       "    </tr>\n",
       "    <tr>\n",
       "      <th>awards_won?</th>\n",
       "      <th></th>\n",
       "      <th></th>\n",
       "    </tr>\n",
       "  </thead>\n",
       "  <tbody>\n",
       "    <tr>\n",
       "      <th>0</th>\n",
       "      <td>49429</td>\n",
       "      <td>4109</td>\n",
       "    </tr>\n",
       "    <tr>\n",
       "      <th>1</th>\n",
       "      <td>711</td>\n",
       "      <td>559</td>\n",
       "    </tr>\n",
       "  </tbody>\n",
       "</table>\n",
       "</div>"
      ],
      "text/plain": [
       "is_promoted      0     1\n",
       "awards_won?             \n",
       "0            49429  4109\n",
       "1              711   559"
      ]
     },
     "execution_count": 55,
     "metadata": {},
     "output_type": "execute_result"
    }
   ],
   "source": [
    "awards_contigency=train_data[[\"awards_won?\",\"is_promoted\"]].pivot_table(index=\"awards_won?\",columns=\"is_promoted\",aggfunc=len,fill_value=0)\n",
    "awards_contigency"
   ]
  },
  {
   "cell_type": "code",
   "execution_count": 56,
   "metadata": {},
   "outputs": [
    {
     "name": "stdout",
     "output_type": "stream",
     "text": [
      "Calucalted Statistic: 2098.0719210465427  \n",
      "\n",
      "P-Value: 0.0  \n",
      "\n",
      "Significant Value: 0.050000000000000044  \n",
      "\n",
      "Rejected Null Hypothesis and awards_won? is a Significant variable to Predict Target Class with a probability of 100.0%\n"
     ]
    }
   ],
   "source": [
    "stat,p,dof,expected=chi2_contingency(awards_contigency)\n",
    "prob=0.95\n",
    "alpha=1-prob\n",
    "if p<alpha:\n",
    "    print(\"Calucalted Statistic: {}  \\n\".format(stat))\n",
    "    print(\"P-Value: {}  \\n\".format(p))\n",
    "    print(\"Significant Value: {}  \\n\".format(alpha))\n",
    "    print(\"Rejected Null Hypothesis and awards_won? is a Significant variable to Predict Target Class with a probability of {}%\".format((1-p)*100))\n",
    "else:\n",
    "    print(\"Failed to Reject Null Hypothesis and awards_won? is not a Significant Variable to Predict Target Classwith a probability of {}%\".format((1-p)*100))\n",
    "\n",
    "    "
   ]
  },
  {
   "cell_type": "code",
   "execution_count": 57,
   "metadata": {},
   "outputs": [],
   "source": [
    "significant_variables.append(\"awards_won?\")"
   ]
  },
  {
   "cell_type": "code",
   "execution_count": 58,
   "metadata": {},
   "outputs": [
    {
     "data": {
      "image/png": "[encoded data removed]",
      "text/plain": [
       "<Figure size 1152x432 with 1 Axes>"
      ]
     },
     "metadata": {
      "needs_background": "light"
     },
     "output_type": "display_data"
    }
   ],
   "source": [
    "plt.figure(figsize=(16,6))\n",
    "sns.distplot(train_data[\"avg_training_score\"]);"
   ]
  },
  {
   "cell_type": "code",
   "execution_count": 59,
   "metadata": {},
   "outputs": [
    {
     "data": {
      "image/png": "[encoded data removed]",
      "text/plain": [
       "<Figure size 432x288 with 1 Axes>"
      ]
     },
     "metadata": {
      "needs_background": "light"
     },
     "output_type": "display_data"
    }
   ],
   "source": [
    "sns.boxplot(y=train_data[\"avg_training_score\"],x=train_data[\"is_promoted\"]);"
   ]
  },
  {
   "cell_type": "code",
   "execution_count": 110,
   "metadata": {},
   "outputs": [
    {
     "name": "stdout",
     "output_type": "stream",
     "text": [
      "region     department         is_promoted\n",
      "region_1   Analytics          0             84.82\n",
      "                              1             85.40\n",
      "           Finance            0             59.33\n",
      "                              1             59.00\n",
      "           HR                 0             49.17\n",
      "                              1             93.00\n",
      "           Legal              0             63.00\n",
      "           Operations         0             59.67\n",
      "                              1             66.33\n",
      "           Procurement        0             69.83\n",
      "           Sales & Marketing  0             49.90\n",
      "                              1             60.44\n",
      "           Technology         0             79.23\n",
      "                              1             83.86\n",
      "region_10  Analytics          0             84.87\n",
      "                              1             86.67\n",
      "           Finance            0             59.62\n",
      "           HR                 0             50.62\n",
      "                              1             50.00\n",
      "           Operations         0             58.57\n",
      "                              1             66.90\n",
      "           Procurement        0             69.49\n",
      "                              1             77.85\n",
      "           R&D                0             87.50\n",
      "           Sales & Marketing  0             49.53\n",
      "                              1             58.21\n",
      "           Technology         0             79.95\n",
      "                              1             81.67\n",
      "region_11  Analytics          0             84.25\n",
      "                              1             89.00\n",
      "                                             ... \n",
      "region_7   Technology         0             79.70\n",
      "                              1             82.91\n",
      "region_8   Analytics          0             84.18\n",
      "                              1             86.75\n",
      "           Finance            0             59.50\n",
      "                              1             75.67\n",
      "           HR                 0             50.50\n",
      "           Legal              0             57.00\n",
      "           Operations         0             59.55\n",
      "                              1             69.50\n",
      "           Procurement        0             69.52\n",
      "                              1             75.50\n",
      "           R&D                0             84.94\n",
      "                              1             84.00\n",
      "           Sales & Marketing  0             49.42\n",
      "                              1             74.60\n",
      "           Technology         0             79.32\n",
      "                              1             82.67\n",
      "region_9   Analytics          0             84.65\n",
      "                              1             87.00\n",
      "           Finance            0             60.78\n",
      "           Legal              0             61.67\n",
      "           Operations         0             59.82\n",
      "                              1             59.00\n",
      "           Procurement        0             69.47\n",
      "           R&D                1             82.00\n",
      "           Sales & Marketing  0             49.81\n",
      "                              1             70.00\n",
      "           Technology         0             79.80\n",
      "                              1             83.50\n",
      "Name: avg_training_score, Length: 519, dtype: float64\n",
      "is_promoted\n",
      "0   62.65\n",
      "1   71.33\n",
      "Name: avg_training_score, dtype: float64\n"
     ]
    }
   ],
   "source": [
    "print(train_data.groupby([\"region\",\"department\",\"is_promoted\"])[\"avg_training_score\"].mean())\n",
    "print(train_data.groupby(\"is_promoted\")[\"avg_training_score\"].mean())"
   ]
  },
  {
   "cell_type": "code",
   "execution_count": 60,
   "metadata": {},
   "outputs": [
    {
     "data": {
      "image/png": "[encoded data removed]",
      "text/plain": [
       "<Figure size 1440x720 with 2 Axes>"
      ]
     },
     "metadata": {
      "needs_background": "light"
     },
     "output_type": "display_data"
    }
   ],
   "source": [
    "var_corr=train_data.corr()\n",
    "plt.figure(figsize=(20,10))\n",
    "sns.heatmap(var_corr[(var_corr>=0.1)|(var_corr<=-0.1)],annot=True,cmap=\"viridis\",annot_kws={\"size\":9},linewidths=0.6,vmax=1.0,vmin=-1.0);"
   ]
  },
  {
   "cell_type": "markdown",
   "metadata": {},
   "source": [
    "#### Missing Values check"
   ]
  },
  {
   "cell_type": "code",
   "execution_count": 61,
   "metadata": {},
   "outputs": [],
   "source": [
    "def missing_value_check(train_data):\n",
    "    missing_count=train_data.isnull().sum().sort_values(ascending=False)\n",
    "    missing_percent=(train_data.isnull().sum()/train_data.isnull().count()).sort_values(ascending=False)\n",
    "    missing_check=pd.concat([missing_count,missing_percent],axis=1,keys=[\"Missing_Count\",\"Missing Percentage\"])\n",
    "    return missing_check"
   ]
  },
  {
   "cell_type": "code",
   "execution_count": 62,
   "metadata": {},
   "outputs": [
    {
     "data": {
      "text/html": [
       "<div>\n",
       "<style scoped>\n",
       "    .dataframe tbody tr th:only-of-type {\n",
       "        vertical-align: middle;\n",
       "    }\n",
       "\n",
       "    .dataframe tbody tr th {\n",
       "        vertical-align: top;\n",
       "    }\n",
       "\n",
       "    .dataframe thead th {\n",
       "        text-align: right;\n",
       "    }\n",
       "</style>\n",
       "<table border=\"1\" class=\"dataframe\">\n",
       "  <thead>\n",
       "    <tr style=\"text-align: right;\">\n",
       "      <th></th>\n",
       "      <th>Missing_Count</th>\n",
       "      <th>Missing Percentage</th>\n",
       "    </tr>\n",
       "  </thead>\n",
       "  <tbody>\n",
       "    <tr>\n",
       "      <th>previous_year_rating</th>\n",
       "      <td>4124</td>\n",
       "      <td>0.08</td>\n",
       "    </tr>\n",
       "    <tr>\n",
       "      <th>education</th>\n",
       "      <td>2409</td>\n",
       "      <td>0.04</td>\n",
       "    </tr>\n",
       "    <tr>\n",
       "      <th>is_promoted</th>\n",
       "      <td>0</td>\n",
       "      <td>0.00</td>\n",
       "    </tr>\n",
       "    <tr>\n",
       "      <th>avg_training_score</th>\n",
       "      <td>0</td>\n",
       "      <td>0.00</td>\n",
       "    </tr>\n",
       "    <tr>\n",
       "      <th>awards_won?</th>\n",
       "      <td>0</td>\n",
       "      <td>0.00</td>\n",
       "    </tr>\n",
       "    <tr>\n",
       "      <th>KPIs_met &gt;80%</th>\n",
       "      <td>0</td>\n",
       "      <td>0.00</td>\n",
       "    </tr>\n",
       "    <tr>\n",
       "      <th>length_of_service</th>\n",
       "      <td>0</td>\n",
       "      <td>0.00</td>\n",
       "    </tr>\n",
       "    <tr>\n",
       "      <th>age</th>\n",
       "      <td>0</td>\n",
       "      <td>0.00</td>\n",
       "    </tr>\n",
       "    <tr>\n",
       "      <th>no_of_trainings</th>\n",
       "      <td>0</td>\n",
       "      <td>0.00</td>\n",
       "    </tr>\n",
       "    <tr>\n",
       "      <th>recruitment_channel</th>\n",
       "      <td>0</td>\n",
       "      <td>0.00</td>\n",
       "    </tr>\n",
       "    <tr>\n",
       "      <th>gender</th>\n",
       "      <td>0</td>\n",
       "      <td>0.00</td>\n",
       "    </tr>\n",
       "    <tr>\n",
       "      <th>region</th>\n",
       "      <td>0</td>\n",
       "      <td>0.00</td>\n",
       "    </tr>\n",
       "    <tr>\n",
       "      <th>department</th>\n",
       "      <td>0</td>\n",
       "      <td>0.00</td>\n",
       "    </tr>\n",
       "  </tbody>\n",
       "</table>\n",
       "</div>"
      ],
      "text/plain": [
       "                      Missing_Count  Missing Percentage\n",
       "previous_year_rating           4124                0.08\n",
       "education                      2409                0.04\n",
       "is_promoted                       0                0.00\n",
       "avg_training_score                0                0.00\n",
       "awards_won?                       0                0.00\n",
       "KPIs_met >80%                     0                0.00\n",
       "length_of_service                 0                0.00\n",
       "age                               0                0.00\n",
       "no_of_trainings                   0                0.00\n",
       "recruitment_channel               0                0.00\n",
       "gender                            0                0.00\n",
       "region                            0                0.00\n",
       "department                        0                0.00"
      ]
     },
     "execution_count": 62,
     "metadata": {},
     "output_type": "execute_result"
    }
   ],
   "source": [
    "missing_value_check(train_data)"
   ]
  },
  {
   "cell_type": "code",
   "execution_count": 63,
   "metadata": {},
   "outputs": [],
   "source": [
    "train_data[\"education\"].replace(np.nan,\"Bachelor's\",inplace=True)"
   ]
  },
  {
   "cell_type": "code",
   "execution_count": 64,
   "metadata": {},
   "outputs": [],
   "source": [
    "train_data[\"previous_year_rating\"].replace(np.nan,3.0,inplace=True)"
   ]
  },
  {
   "cell_type": "code",
   "execution_count": 65,
   "metadata": {},
   "outputs": [],
   "source": [
    "category_train=train_data.select_dtypes(include=\"O\")\n"
   ]
  },
  {
   "cell_type": "code",
   "execution_count": 66,
   "metadata": {},
   "outputs": [],
   "source": [
    "category_train.drop([\"education\"],axis=1,inplace=True)"
   ]
  },
  {
   "cell_type": "code",
   "execution_count": 67,
   "metadata": {},
   "outputs": [],
   "source": [
    "train_data.replace({\"education\":{\"Master's & above\":3, \"Bachelor's\":2, 'Below Secondary':1}},inplace=True)"
   ]
  },
  {
   "cell_type": "code",
   "execution_count": 68,
   "metadata": {},
   "outputs": [],
   "source": [
    "category_columns=list(category_train.columns)"
   ]
  },
  {
   "cell_type": "code",
   "execution_count": 69,
   "metadata": {},
   "outputs": [],
   "source": [
    "train_dummies=pd.get_dummies(category_train,drop_first=True)"
   ]
  },
  {
   "cell_type": "code",
   "execution_count": 70,
   "metadata": {},
   "outputs": [],
   "source": [
    "train_num=train_data.drop(category_columns,axis=1)"
   ]
  },
  {
   "cell_type": "code",
   "execution_count": 71,
   "metadata": {},
   "outputs": [],
   "source": [
    "train_new=pd.concat([train_num,train_dummies],axis=1)"
   ]
  },
  {
   "cell_type": "code",
   "execution_count": 72,
   "metadata": {},
   "outputs": [],
   "source": [
    "x=train_new.drop([\"is_promoted\"],axis=1)\n",
    "y=train_new[\"is_promoted\"]"
   ]
  },
  {
   "cell_type": "code",
   "execution_count": 73,
   "metadata": {},
   "outputs": [],
   "source": [
    "from sklearn.model_selection import train_test_split\n",
    "x_train,x_test,y_train,y_test=train_test_split(x,y,test_size=0.3,random_state=21)\n"
   ]
  },
  {
   "cell_type": "code",
   "execution_count": 74,
   "metadata": {},
   "outputs": [],
   "source": [
    "from sklearn.metrics import f1_score,classification_report,confusion_matrix"
   ]
  },
  {
   "cell_type": "code",
   "execution_count": 75,
   "metadata": {},
   "outputs": [
    {
     "data": {
      "text/plain": [
       "DecisionTreeClassifier(class_weight=None, criterion='gini', max_depth=None,\n",
       "                       max_features=None, max_leaf_nodes=None,\n",
       "                       min_impurity_decrease=0.0, min_impurity_split=None,\n",
       "                       min_samples_leaf=1, min_samples_split=2,\n",
       "                       min_weight_fraction_leaf=0.0, presort=False,\n",
       "                       random_state=None, splitter='best')"
      ]
     },
     "execution_count": 75,
     "metadata": {},
     "output_type": "execute_result"
    }
   ],
   "source": [
    "from sklearn.tree import DecisionTreeClassifier\n",
    "DT=DecisionTreeClassifier()\n",
    "DT.fit(x_train,y_train)\n"
   ]
  },
  {
   "cell_type": "code",
   "execution_count": 76,
   "metadata": {},
   "outputs": [
    {
     "data": {
      "text/html": [
       "<div>\n",
       "<style scoped>\n",
       "    .dataframe tbody tr th:only-of-type {\n",
       "        vertical-align: middle;\n",
       "    }\n",
       "\n",
       "    .dataframe tbody tr th {\n",
       "        vertical-align: top;\n",
       "    }\n",
       "\n",
       "    .dataframe thead th {\n",
       "        text-align: right;\n",
       "    }\n",
       "</style>\n",
       "<table border=\"1\" class=\"dataframe\">\n",
       "  <thead>\n",
       "    <tr style=\"text-align: right;\">\n",
       "      <th>col_0</th>\n",
       "      <th>0</th>\n",
       "      <th>1</th>\n",
       "    </tr>\n",
       "    <tr>\n",
       "      <th>is_promoted</th>\n",
       "      <th></th>\n",
       "      <th></th>\n",
       "    </tr>\n",
       "  </thead>\n",
       "  <tbody>\n",
       "    <tr>\n",
       "      <th>0</th>\n",
       "      <td>14140</td>\n",
       "      <td>843</td>\n",
       "    </tr>\n",
       "    <tr>\n",
       "      <th>1</th>\n",
       "      <td>793</td>\n",
       "      <td>667</td>\n",
       "    </tr>\n",
       "  </tbody>\n",
       "</table>\n",
       "</div>"
      ],
      "text/plain": [
       "col_0            0    1\n",
       "is_promoted            \n",
       "0            14140  843\n",
       "1              793  667"
      ]
     },
     "execution_count": 76,
     "metadata": {},
     "output_type": "execute_result"
    }
   ],
   "source": [
    "DT_pr=DT.predict(x_test)\n",
    "pd.crosstab(y_test,DT_pr)"
   ]
  },
  {
   "cell_type": "code",
   "execution_count": 77,
   "metadata": {},
   "outputs": [
    {
     "data": {
      "text/plain": [
       "0.4491582491582492"
      ]
     },
     "execution_count": 77,
     "metadata": {},
     "output_type": "execute_result"
    }
   ],
   "source": [
    "f1_score(y_test,DT_pr)"
   ]
  },
  {
   "cell_type": "markdown",
   "metadata": {},
   "source": [
    "##### Evaluation Data"
   ]
  },
  {
   "cell_type": "code",
   "execution_count": 78,
   "metadata": {},
   "outputs": [],
   "source": [
    "test_data.head()\n",
    "test_data.drop([\"employee_id\"],axis=1,inplace=True)"
   ]
  },
  {
   "cell_type": "code",
   "execution_count": 79,
   "metadata": {},
   "outputs": [
    {
     "data": {
      "text/html": [
       "<div>\n",
       "<style scoped>\n",
       "    .dataframe tbody tr th:only-of-type {\n",
       "        vertical-align: middle;\n",
       "    }\n",
       "\n",
       "    .dataframe tbody tr th {\n",
       "        vertical-align: top;\n",
       "    }\n",
       "\n",
       "    .dataframe thead th {\n",
       "        text-align: right;\n",
       "    }\n",
       "</style>\n",
       "<table border=\"1\" class=\"dataframe\">\n",
       "  <thead>\n",
       "    <tr style=\"text-align: right;\">\n",
       "      <th></th>\n",
       "      <th>Missing_Count</th>\n",
       "      <th>Missing Percentage</th>\n",
       "    </tr>\n",
       "  </thead>\n",
       "  <tbody>\n",
       "    <tr>\n",
       "      <th>previous_year_rating</th>\n",
       "      <td>1812</td>\n",
       "      <td>0.08</td>\n",
       "    </tr>\n",
       "    <tr>\n",
       "      <th>education</th>\n",
       "      <td>1034</td>\n",
       "      <td>0.04</td>\n",
       "    </tr>\n",
       "    <tr>\n",
       "      <th>avg_training_score</th>\n",
       "      <td>0</td>\n",
       "      <td>0.00</td>\n",
       "    </tr>\n",
       "    <tr>\n",
       "      <th>awards_won?</th>\n",
       "      <td>0</td>\n",
       "      <td>0.00</td>\n",
       "    </tr>\n",
       "    <tr>\n",
       "      <th>KPIs_met &gt;80%</th>\n",
       "      <td>0</td>\n",
       "      <td>0.00</td>\n",
       "    </tr>\n",
       "    <tr>\n",
       "      <th>length_of_service</th>\n",
       "      <td>0</td>\n",
       "      <td>0.00</td>\n",
       "    </tr>\n",
       "    <tr>\n",
       "      <th>age</th>\n",
       "      <td>0</td>\n",
       "      <td>0.00</td>\n",
       "    </tr>\n",
       "    <tr>\n",
       "      <th>no_of_trainings</th>\n",
       "      <td>0</td>\n",
       "      <td>0.00</td>\n",
       "    </tr>\n",
       "    <tr>\n",
       "      <th>recruitment_channel</th>\n",
       "      <td>0</td>\n",
       "      <td>0.00</td>\n",
       "    </tr>\n",
       "    <tr>\n",
       "      <th>gender</th>\n",
       "      <td>0</td>\n",
       "      <td>0.00</td>\n",
       "    </tr>\n",
       "    <tr>\n",
       "      <th>region</th>\n",
       "      <td>0</td>\n",
       "      <td>0.00</td>\n",
       "    </tr>\n",
       "    <tr>\n",
       "      <th>department</th>\n",
       "      <td>0</td>\n",
       "      <td>0.00</td>\n",
       "    </tr>\n",
       "  </tbody>\n",
       "</table>\n",
       "</div>"
      ],
      "text/plain": [
       "                      Missing_Count  Missing Percentage\n",
       "previous_year_rating           1812                0.08\n",
       "education                      1034                0.04\n",
       "avg_training_score                0                0.00\n",
       "awards_won?                       0                0.00\n",
       "KPIs_met >80%                     0                0.00\n",
       "length_of_service                 0                0.00\n",
       "age                               0                0.00\n",
       "no_of_trainings                   0                0.00\n",
       "recruitment_channel               0                0.00\n",
       "gender                            0                0.00\n",
       "region                            0                0.00\n",
       "department                        0                0.00"
      ]
     },
     "execution_count": 79,
     "metadata": {},
     "output_type": "execute_result"
    }
   ],
   "source": [
    "missing_value_check(test_data)"
   ]
  },
  {
   "cell_type": "code",
   "execution_count": 80,
   "metadata": {},
   "outputs": [],
   "source": [
    "test_data[\"previous_year_rating\"].replace(np.nan,3.0,inplace=True)"
   ]
  },
  {
   "cell_type": "code",
   "execution_count": 81,
   "metadata": {},
   "outputs": [],
   "source": [
    "test_data[\"education\"].replace(np.nan,\"Bachelor's\",inplace=True)"
   ]
  },
  {
   "cell_type": "code",
   "execution_count": 82,
   "metadata": {},
   "outputs": [
    {
     "data": {
      "text/html": [
       "<div>\n",
       "<style scoped>\n",
       "    .dataframe tbody tr th:only-of-type {\n",
       "        vertical-align: middle;\n",
       "    }\n",
       "\n",
       "    .dataframe tbody tr th {\n",
       "        vertical-align: top;\n",
       "    }\n",
       "\n",
       "    .dataframe thead th {\n",
       "        text-align: right;\n",
       "    }\n",
       "</style>\n",
       "<table border=\"1\" class=\"dataframe\">\n",
       "  <thead>\n",
       "    <tr style=\"text-align: right;\">\n",
       "      <th></th>\n",
       "      <th>Missing_Count</th>\n",
       "      <th>Missing Percentage</th>\n",
       "    </tr>\n",
       "  </thead>\n",
       "  <tbody>\n",
       "    <tr>\n",
       "      <th>avg_training_score</th>\n",
       "      <td>0</td>\n",
       "      <td>0.00</td>\n",
       "    </tr>\n",
       "    <tr>\n",
       "      <th>awards_won?</th>\n",
       "      <td>0</td>\n",
       "      <td>0.00</td>\n",
       "    </tr>\n",
       "    <tr>\n",
       "      <th>KPIs_met &gt;80%</th>\n",
       "      <td>0</td>\n",
       "      <td>0.00</td>\n",
       "    </tr>\n",
       "    <tr>\n",
       "      <th>length_of_service</th>\n",
       "      <td>0</td>\n",
       "      <td>0.00</td>\n",
       "    </tr>\n",
       "    <tr>\n",
       "      <th>previous_year_rating</th>\n",
       "      <td>0</td>\n",
       "      <td>0.00</td>\n",
       "    </tr>\n",
       "    <tr>\n",
       "      <th>age</th>\n",
       "      <td>0</td>\n",
       "      <td>0.00</td>\n",
       "    </tr>\n",
       "    <tr>\n",
       "      <th>no_of_trainings</th>\n",
       "      <td>0</td>\n",
       "      <td>0.00</td>\n",
       "    </tr>\n",
       "    <tr>\n",
       "      <th>recruitment_channel</th>\n",
       "      <td>0</td>\n",
       "      <td>0.00</td>\n",
       "    </tr>\n",
       "    <tr>\n",
       "      <th>gender</th>\n",
       "      <td>0</td>\n",
       "      <td>0.00</td>\n",
       "    </tr>\n",
       "    <tr>\n",
       "      <th>education</th>\n",
       "      <td>0</td>\n",
       "      <td>0.00</td>\n",
       "    </tr>\n",
       "    <tr>\n",
       "      <th>region</th>\n",
       "      <td>0</td>\n",
       "      <td>0.00</td>\n",
       "    </tr>\n",
       "    <tr>\n",
       "      <th>department</th>\n",
       "      <td>0</td>\n",
       "      <td>0.00</td>\n",
       "    </tr>\n",
       "  </tbody>\n",
       "</table>\n",
       "</div>"
      ],
      "text/plain": [
       "                      Missing_Count  Missing Percentage\n",
       "avg_training_score                0                0.00\n",
       "awards_won?                       0                0.00\n",
       "KPIs_met >80%                     0                0.00\n",
       "length_of_service                 0                0.00\n",
       "previous_year_rating              0                0.00\n",
       "age                               0                0.00\n",
       "no_of_trainings                   0                0.00\n",
       "recruitment_channel               0                0.00\n",
       "gender                            0                0.00\n",
       "education                         0                0.00\n",
       "region                            0                0.00\n",
       "department                        0                0.00"
      ]
     },
     "execution_count": 82,
     "metadata": {},
     "output_type": "execute_result"
    }
   ],
   "source": [
    "missing_value_check(test_data)"
   ]
  },
  {
   "cell_type": "code",
   "execution_count": 83,
   "metadata": {},
   "outputs": [],
   "source": [
    "test_data.replace({\"education\":{\"Master's & above\":3, \"Bachelor's\":2, 'Below Secondary':1}},inplace=True)\n"
   ]
  },
  {
   "cell_type": "code",
   "execution_count": 84,
   "metadata": {},
   "outputs": [],
   "source": [
    "test_cat=test_raw[category_columns]\n",
    "test_dummy=pd.get_dummies(test_cat,drop_first=True)\n",
    "test_num=test_data.drop(category_columns,axis=1)\n",
    "test_new=pd.concat([test_num,test_dummy],axis=1)\n",
    "test_predict=DT.predict(test_new)\n",
    "employee_id=test_raw[\"employee_id\"]\n",
    "sub=pd.DataFrame({\"employee_id\":employee_id,\"is_promoted\":test_predict},index=None)\n",
    "sub.to_csv(\"submission_DT.csv\",index=None)"
   ]
  },
  {
   "cell_type": "markdown",
   "metadata": {},
   "source": [
    "###### Evaluation Score: `0.4133251080`"
   ]
  },
  {
   "cell_type": "markdown",
   "metadata": {},
   "source": [
    "#### Hyperparameter Tuning for Decision Trees"
   ]
  },
  {
   "cell_type": "code",
   "execution_count": 85,
   "metadata": {},
   "outputs": [
    {
     "name": "stdout",
     "output_type": "stream",
     "text": [
      "Best F1 score : 0.355269 using {'min_samples_split': 13, 'min_samples_leaf': 1, 'max_features': 'sqrt'}\n"
     ]
    }
   ],
   "source": [
    "from sklearn.model_selection import StratifiedKFold,RandomizedSearchCV,KFold,cross_val_score,GridSearchCV\n",
    "\n",
    "DTh=DecisionTreeClassifier(random_state=21)\n",
    "\n",
    "params={\"max_features\":['auto','sqrt', 'log2'],\"min_samples_split\":[2,3,4,  5,  6,  7,  8,  9, 10, 11, 12, 13,14, 15, 16, 17, 18, 19, 20, 21, 22, 23, 24, 25,26,27,28,29,30,50,70,100,150],\"min_samples_leaf\":[ 1,  2,  3,  4,  5,  6,  7,  8,  9, 10, 11, 12, 13,14, 15,20,25]}\n",
    "\n",
    "DT_grid=RandomizedSearchCV(DTh,param_distributions=params,cv=5,n_jobs=-1,scoring=\"f1\",n_iter=500)\n",
    "\n",
    "DT_grid.fit(x_train,y_train)\n",
    "print(\"Best F1 score : %f using %s\" % (DT_grid.best_score_, DT_grid.best_params_))\n",
    "\n",
    "\n"
   ]
  },
  {
   "cell_type": "code",
   "execution_count": 86,
   "metadata": {},
   "outputs": [
    {
     "data": {
      "text/plain": [
       "DecisionTreeClassifier(class_weight=None, criterion='gini', max_depth=None,\n",
       "                       max_features='auto', max_leaf_nodes=None,\n",
       "                       min_impurity_decrease=0.0, min_impurity_split=None,\n",
       "                       min_samples_leaf=1, min_samples_split=28,\n",
       "                       min_weight_fraction_leaf=0.0, presort=False,\n",
       "                       random_state=102, splitter='best')"
      ]
     },
     "execution_count": 86,
     "metadata": {},
     "output_type": "execute_result"
    }
   ],
   "source": [
    "DT=DecisionTreeClassifier(min_samples_split= 28, min_samples_leaf= 1, max_features= 'auto',random_state=102)\n",
    "DT.fit(x_train,y_train)"
   ]
  },
  {
   "cell_type": "code",
   "execution_count": 87,
   "metadata": {},
   "outputs": [
    {
     "data": {
      "text/plain": [
       "0.37593984962406013"
      ]
     },
     "execution_count": 87,
     "metadata": {},
     "output_type": "execute_result"
    }
   ],
   "source": [
    "f1_score(y_test,DT.predict(x_test))"
   ]
  },
  {
   "cell_type": "code",
   "execution_count": 88,
   "metadata": {},
   "outputs": [],
   "source": [
    "test_predict=DT.predict(test_new)\n",
    "employee_id=test_raw[\"employee_id\"]\n",
    "sub=pd.DataFrame({\"employee_id\":employee_id,\"is_promoted\":test_predict},index=None)\n",
    "sub.to_csv(\"submission_DT.csv\",index=None)"
   ]
  },
  {
   "cell_type": "markdown",
   "metadata": {},
   "source": [
    "#### Random Forest"
   ]
  },
  {
   "cell_type": "code",
   "execution_count": 91,
   "metadata": {},
   "outputs": [
    {
     "data": {
      "text/plain": [
       "0.4080604534005038"
      ]
     },
     "execution_count": 91,
     "metadata": {},
     "output_type": "execute_result"
    }
   ],
   "source": [
    "from sklearn.ensemble import RandomForestClassifier\n",
    "rf=RandomForestClassifier(random_state=121,bootstrap=True)\n",
    "rf.fit(x_train,y_train)\n",
    "f1_score(y_test,rf.predict(x_test))"
   ]
  },
  {
   "cell_type": "code",
   "execution_count": 92,
   "metadata": {},
   "outputs": [],
   "source": [
    "test_predict=rf.predict(test_new)\n",
    "employee_id=test_raw[\"employee_id\"]\n",
    "sub=pd.DataFrame({\"employee_id\":employee_id,\"is_promoted\":test_predict},index=None)\n",
    "sub.to_csv(\"submission_rf.csv\",index=None)"
   ]
  },
  {
   "cell_type": "markdown",
   "metadata": {},
   "source": [
    "Evaluation score: 0.355"
   ]
  },
  {
   "cell_type": "markdown",
   "metadata": {},
   "source": [
    "#### Random Forest hyper parameter tuning"
   ]
  },
  {
   "cell_type": "code",
   "execution_count": 94,
   "metadata": {},
   "outputs": [
    {
     "name": "stdout",
     "output_type": "stream",
     "text": [
      "Best F1 score : 0.295721 using {'n_estimators': 500, 'min_samples_split': 15, 'min_samples_leaf': 2, 'max_features': 'auto', 'max_depth': 18.0}\n"
     ]
    }
   ],
   "source": [
    "n_estimators=[100,400,500,600,900]\n",
    "max_depth = np.linspace(1, 32, 32, endpoint=True)\n",
    "min_samples_split = [2,5,10,15,16,17,18,19,20,21,22,23,24,25,30,50,60]\n",
    "min_samples_leaf = [2,3,4,5,6,7,8,9,10,15,20,25,30]\n",
    "max_features = ['auto','sqrt', 'log2']\n",
    "rf_params=dict(n_estimators=n_estimators,max_depth=max_depth,min_samples_split=min_samples_split,min_samples_leaf=min_samples_leaf,max_features=max_features)\n",
    "grid=RandomizedSearchCV(rf,param_distributions=rf_params,scoring=\"f1\",n_jobs=-1,cv=5)\n",
    "grid.fit(x_train,y_train)\n",
    "print(\"Best F1 score : %f using %s\" % (grid.best_score_, grid.best_params_))\n"
   ]
  },
  {
   "cell_type": "code",
   "execution_count": 96,
   "metadata": {},
   "outputs": [
    {
     "data": {
      "text/plain": [
       "0.32518476407049457"
      ]
     },
     "execution_count": 96,
     "metadata": {},
     "output_type": "execute_result"
    }
   ],
   "source": [
    "rf=RandomForestClassifier(random_state=121,bootstrap=True,n_estimators= 500, min_samples_split= 15, min_samples_leaf= 2, max_features= \"auto\", max_depth= 18.0)\n",
    "rf.fit(x_train,y_train)\n",
    "f1_score(y_test,rf.predict(x_test))"
   ]
  },
  {
   "cell_type": "code",
   "execution_count": 97,
   "metadata": {},
   "outputs": [],
   "source": [
    "test_predict=rf.predict(test_new)\n",
    "employee_id=test_raw[\"employee_id\"]\n",
    "sub=pd.DataFrame({\"employee_id\":employee_id,\"is_promoted\":test_predict},index=None)\n",
    "sub.to_csv(\"submission_rf.csv\",index=None)"
   ]
  },
  {
   "cell_type": "code",
   "execution_count": 98,
   "metadata": {},
   "outputs": [
    {
     "data": {
      "image/png": "[encoded data removed]",
      "text/plain": [
       "<Figure size 432x288 with 1 Axes>"
      ]
     },
     "metadata": {
      "needs_background": "light"
     },
     "output_type": "display_data"
    }
   ],
   "source": [
    "feat_importances = pd.Series(rf.feature_importances_, index=x_train.columns)\n",
    "feat_importances.nlargest(10).plot(kind='bar');"
   ]
  },
  {
   "cell_type": "markdown",
   "metadata": {},
   "source": [
    "#### XGB"
   ]
  },
  {
   "cell_type": "code",
   "execution_count": 87,
   "metadata": {},
   "outputs": [
    {
     "data": {
      "text/plain": [
       "0.40584415584415595"
      ]
     },
     "execution_count": 87,
     "metadata": {},
     "output_type": "execute_result"
    }
   ],
   "source": [
    "from sklearn.model_selection import StratifiedKFold,RandomizedSearchCV,KFold,cross_val_score,GridSearchCV\n",
    "import xgboost as xgb\n",
    "from xgboost.sklearn import XGBClassifier\n",
    "xgb=XGBClassifier()\n",
    "xgb.fit(x_train,y_train)\n",
    "f1_score(y_test,xgb.predict(x_test))"
   ]
  },
  {
   "cell_type": "code",
   "execution_count": 88,
   "metadata": {},
   "outputs": [
    {
     "name": "stdout",
     "output_type": "stream",
     "text": [
      "Best F1 score : 0.489998 using {'subsample': 1, 'scale_pos_weight': 1, 'reg_alpha': 0.5, 'min_child_weight': 15, 'max_depth': 5, 'gamma': 0.2, 'colsample_bytree': 0.8}\n"
     ]
    }
   ],
   "source": [
    "param_xgb = {\n",
    " 'max_depth':[5,10,15,20,22,25,28,30,32,25],\n",
    " 'min_child_weight':[2,3,4,5,6,7,8,9,10,15,20],\n",
    "'gamma':[0.0, 0.1, 0.2, 0.3, 0.4,0.5],\n",
    "'subsample':[0.5,0.6, 0.7, 0.8, 0.9,1],\n",
    "'colsample_bytree':[0.5,0.6, 0.7, 0.8, 0.9,1],\n",
    "'reg_alpha':[0, 0.001, 0.005, 0.01, 0.05,0.1,0.2,0.5,1,1.5,2,2.5,3],\n",
    "'scale_pos_weight': [1,2,3,4,5,6,7,8,9,10],\n",
    "'reg_alpha':[0, 0.001, 0.005, 0.01, 0.05,0.1,0.2,0.5,1,1.5,2,2.5,3]\n",
    "    \n",
    "}\n",
    "\n",
    "xgb=XGBClassifier(n_estimators=500,objective= 'binary:logistic',class_weight=\"balanced\",nthread=4,seed=123)\n",
    "cv = StratifiedKFold(y_train, n_folds=8,shuffle=True, random_state=30)\n",
    "xgrid=RandomizedSearchCV(xgb,param_distributions=param_xgb,scoring=\"f1\",n_jobs=-1,cv=cv)\n",
    "\n",
    "xgrid.fit(x_train,y_train)\n",
    "\n",
    "print(\"Best F1 score : %f using %s\" % (xgrid.best_score_,xgrid.best_params_))\n"
   ]
  },
  {
   "cell_type": "code",
   "execution_count": 89,
   "metadata": {},
   "outputs": [
    {
     "data": {
      "text/plain": [
       "0.5288326300984529"
      ]
     },
     "execution_count": 89,
     "metadata": {},
     "output_type": "execute_result"
    }
   ],
   "source": [
    "xgb=XGBClassifier(subsample= 0.7, scale_pos_weight= 1, reg_alpha= 1.5, min_child_weight= 6, max_depth= 20, gamma= 0.5, colsample_bytree= 0.5,n_estimators=500,objective= 'binary:logistic',class_weight=\"balanced\",nthread=4,seed=123)\n",
    "xgb.fit(x_train,y_train)\n",
    "f1_score(y_test,xgb.predict(x_test))"
   ]
  },
  {
   "cell_type": "code",
   "execution_count": 99,
   "metadata": {},
   "outputs": [
    {
     "name": "stdout",
     "output_type": "stream",
     "text": [
      "[0.42628774 0.5060241  0.49241147 0.48180243 0.51602024 0.48526863\n",
      " 0.4982699  0.5107084 ]\n"
     ]
    }
   ],
   "source": [
    "cv = StratifiedKFold(n_splits=8,shuffle=True, random_state=30)\n",
    "result=cross_val_score(xgb,x_train,y_train,scoring=\"f1\",n_jobs=-1,cv=cv)\n",
    "print(result)"
   ]
  },
  {
   "cell_type": "code",
   "execution_count": 104,
   "metadata": {},
   "outputs": [],
   "source": [
    "test_predict=xgb.predict(test_new)\n",
    "employee_id=test_raw[\"employee_id\"]\n",
    "sub=pd.DataFrame({\"employee_id\":employee_id,\"is_promoted\":test_predict},index=None)\n",
    "sub.to_csv(\"submission_rf.csv\",index=None)"
   ]
  },
  {
   "cell_type": "markdown",
   "metadata": {},
   "source": [
    "Evaluation Score: `0.4858156028`"
   ]
  },
  {
   "cell_type": "code",
   "execution_count": 114,
   "metadata": {},
   "outputs": [],
   "source": [
    "from bayes_opt import BayesianOptimization\n",
    "\n"
   ]
  },
  {
   "cell_type": "code",
   "execution_count": null,
   "metadata": {},
   "outputs": [],
   "source": []
  }
 ],
 "metadata": {
  "kernelspec": {
   "display_name": "Python 3",
   "language": "python",
   "name": "python3"
  },
  "language_info": {
   "codemirror_mode": {
    "name": "ipython",
    "version": 3
   },
   "file_extension": ".py",
   "mimetype": "text/x-python",
   "name": "python",
   "nbconvert_exporter": "python",
   "pygments_lexer": "ipython3",
   "version": "3.7.3"
  }
 },
 "nbformat": 4,
 "nbformat_minor": 2
}
